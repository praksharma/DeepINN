{
 "cells": [
  {
   "cell_type": "code",
   "execution_count": 1,
   "metadata": {},
   "outputs": [
    {
     "name": "stderr",
     "output_type": "stream",
     "text": [
      "Using default backend: PyTorch\n",
      "Using Pytorch:  2.0.1+cu117\n"
     ]
    }
   ],
   "source": [
    "# This is only valid when the package is not installed\n",
    "import sys\n",
    "sys.path.append('../../') # two folders up\n",
    "import DeepINN as dp"
   ]
  },
  {
   "cell_type": "code",
   "execution_count": 2,
   "metadata": {},
   "outputs": [],
   "source": [
    "activation = \"tanh\"\n",
    "initialiser = \"Xavier normal\"\n",
    "layer_size = [1] + [5] * 3 + [1]"
   ]
  },
  {
   "cell_type": "code",
   "execution_count": 3,
   "metadata": {},
   "outputs": [
    {
     "data": {
      "text/plain": [
       "ModuleList(\n",
       "  (0): Linear(in_features=1, out_features=5, bias=True)\n",
       "  (1-2): 2 x Linear(in_features=5, out_features=5, bias=True)\n",
       "  (3): Linear(in_features=5, out_features=1, bias=True)\n",
       ")"
      ]
     },
     "execution_count": 3,
     "metadata": {},
     "output_type": "execute_result"
    }
   ],
   "source": [
    "net = dp.nn.FullyConnected(layer_size, activation, initialiser)\n",
    "net.linears"
   ]
  },
  {
   "cell_type": "code",
   "execution_count": 12,
   "metadata": {},
   "outputs": [
    {
     "data": {
      "text/plain": [
       "tensor([[ 0.5273,  0.8334,  0.0886, -0.2666, -0.2087],\n",
       "        [-0.7382,  0.1828, -0.5416,  0.4298,  0.1042],\n",
       "        [ 0.1006,  0.0699, -0.5124,  0.1822, -0.4622],\n",
       "        [-0.1793, -0.5187, -0.8995, -0.3238,  1.0580],\n",
       "        [ 0.6682,  0.4906,  0.3912,  0.8126,  0.0794]])"
      ]
     },
     "execution_count": 12,
     "metadata": {},
     "output_type": "execute_result"
    }
   ],
   "source": [
    "net.linears[2].weight.data"
   ]
  },
  {
   "cell_type": "code",
   "execution_count": 13,
   "metadata": {},
   "outputs": [
    {
     "data": {
      "text/plain": [
       "<function torch.nn.init.xavier_normal_(tensor: torch.Tensor, gain: float = 1.0) -> torch.Tensor>"
      ]
     },
     "execution_count": 13,
     "metadata": {},
     "output_type": "execute_result"
    }
   ],
   "source": [
    "net.initialiser"
   ]
  },
  {
   "cell_type": "code",
   "execution_count": null,
   "metadata": {},
   "outputs": [],
   "source": []
  },
  {
   "cell_type": "code",
   "execution_count": null,
   "metadata": {},
   "outputs": [],
   "source": []
  },
  {
   "cell_type": "code",
   "execution_count": null,
   "metadata": {},
   "outputs": [],
   "source": []
  },
  {
   "cell_type": "code",
   "execution_count": null,
   "metadata": {},
   "outputs": [],
   "source": []
  },
  {
   "cell_type": "code",
   "execution_count": null,
   "metadata": {},
   "outputs": [],
   "source": []
  }
 ],
 "metadata": {
  "kernelspec": {
   "display_name": ".venv",
   "language": "python",
   "name": "python3"
  },
  "language_info": {
   "codemirror_mode": {
    "name": "ipython",
    "version": 3
   },
   "file_extension": ".py",
   "mimetype": "text/x-python",
   "name": "python",
   "nbconvert_exporter": "python",
   "pygments_lexer": "ipython3",
   "version": "3.8.10"
  },
  "orig_nbformat": 4
 },
 "nbformat": 4,
 "nbformat_minor": 2
}
