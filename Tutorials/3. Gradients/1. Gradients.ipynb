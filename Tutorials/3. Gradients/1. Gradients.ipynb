{
 "cells": [
  {
   "cell_type": "code",
   "execution_count": 1,
   "metadata": {},
   "outputs": [],
   "source": [
    "# This is only valid when the package is not installed\n",
    "import sys\n",
    "sys.path.append('../../') # two folders up"
   ]
  },
  {
   "cell_type": "code",
   "execution_count": 2,
   "metadata": {},
   "outputs": [
    {
     "name": "stderr",
     "output_type": "stream",
     "text": [
      "Using default backend: PyTorch\n",
      "Using Pytorch:  2.0.1+cu117\n"
     ]
    }
   ],
   "source": [
    "import DeepINN as dp"
   ]
  },
  {
   "cell_type": "code",
   "execution_count": 3,
   "metadata": {},
   "outputs": [],
   "source": [
    "from torch import nn\n",
    "import torch"
   ]
  },
  {
   "attachments": {},
   "cell_type": "markdown",
   "metadata": {},
   "source": [
    "# Test 1"
   ]
  },
  {
   "cell_type": "code",
   "execution_count": 4,
   "metadata": {},
   "outputs": [
    {
     "name": "stdout",
     "output_type": "stream",
     "text": [
      "x: tensor([2.], requires_grad=True)\n",
      "y: tensor([5.], grad_fn=<AddBackward0>)\n"
     ]
    }
   ],
   "source": [
    "x = torch.tensor([2.0], requires_grad = True)\n",
    "print(\"x:\", x)\n",
    "\n",
    "y = x**2 + 1\n",
    "print(\"y:\", y)"
   ]
  },
  {
   "attachments": {},
   "cell_type": "markdown",
   "metadata": {},
   "source": [
    "$$y=x^2 +1$$\n",
    "\n",
    "$$\\frac{dy}{dx} = 2x$$"
   ]
  },
  {
   "cell_type": "code",
   "execution_count": 5,
   "metadata": {},
   "outputs": [
    {
     "name": "stdout",
     "output_type": "stream",
     "text": [
      "Gradient (dy/dx): tensor([4.])\n"
     ]
    }
   ],
   "source": [
    "# Calculate the gradient manually using torch.autograd.grad()\n",
    "gradient = torch.autograd.grad(y, x, retain_graph=True)[0]\n",
    "print(\"Gradient (dy/dx):\", gradient)"
   ]
  },
  {
   "cell_type": "code",
   "execution_count": 6,
   "metadata": {},
   "outputs": [
    {
     "data": {
      "text/plain": [
       "tensor([4.])"
      ]
     },
     "execution_count": 6,
     "metadata": {},
     "output_type": "execute_result"
    }
   ],
   "source": [
    "jacobian = dp.constraint.Jacobian(x, y)(0,0)\n",
    "# jacobian_matrix = jacobian(0, 1)\n",
    "jacobian"
   ]
  },
  {
   "attachments": {},
   "cell_type": "markdown",
   "metadata": {},
   "source": [
    "# A note for the future.\n",
    "If we need to use the same graph to computer more gradients then we need to use retain_graph=True\n",
    "We need to investigate whether we need this."
   ]
  },
  {
   "attachments": {},
   "cell_type": "markdown",
   "metadata": {},
   "source": [
    "here we confirmed that both compute the same gradient. \n",
    "\n",
    "# 1D tensor with multiple values."
   ]
  },
  {
   "cell_type": "code",
   "execution_count": 7,
   "metadata": {},
   "outputs": [],
   "source": [
    "# Define a simple neural network for demonstration\n",
    "class Net(nn.Module):\n",
    "    def __init__(self):\n",
    "        super(Net, self).__init__()\n",
    "        self.linear = nn.Linear(2, 1) # automatic weights initialisation\n",
    "\n",
    "    def forward(self, x):\n",
    "        return self.linear(x)"
   ]
  },
  {
   "cell_type": "code",
   "execution_count": 8,
   "metadata": {},
   "outputs": [
    {
     "data": {
      "text/plain": [
       "(tensor([1., 2.], requires_grad=True), torch.Size([2]))"
      ]
     },
     "execution_count": 8,
     "metadata": {},
     "output_type": "execute_result"
    }
   ],
   "source": [
    "# Create random input tensor\n",
    "X = torch.tensor([1.0, 2.0], requires_grad=True)\n",
    "X, X.size()"
   ]
  },
  {
   "cell_type": "code",
   "execution_count": 9,
   "metadata": {},
   "outputs": [
    {
     "data": {
      "text/plain": [
       "tensor([1.7470], grad_fn=<AddBackward0>)"
      ]
     },
     "execution_count": 9,
     "metadata": {},
     "output_type": "execute_result"
    }
   ],
   "source": [
    "# Instantiate the neural network\n",
    "net = Net()\n",
    "\n",
    "# Forward pass\n",
    "y = net(X)\n",
    "y"
   ]
  },
  {
   "cell_type": "code",
   "execution_count": 10,
   "metadata": {},
   "outputs": [
    {
     "name": "stdout",
     "output_type": "stream",
     "text": [
      "Gradient (dy/dx): tensor([0.6625, 0.2891])\n"
     ]
    }
   ],
   "source": [
    "# pytorch gradient\n",
    "# Calculate the gradient manually using torch.autograd.grad()\n",
    "gradient = torch.autograd.grad(y, X, retain_graph=True)[0]\n",
    "print(\"Gradient (dy/dx):\", gradient)"
   ]
  },
  {
   "cell_type": "code",
   "execution_count": 11,
   "metadata": {},
   "outputs": [
    {
     "data": {
      "text/plain": [
       "tensor([0.6625, 0.2891])"
      ]
     },
     "execution_count": 11,
     "metadata": {},
     "output_type": "execute_result"
    }
   ],
   "source": [
    "jacobian = dp.constraint.Jacobian(X, y)(0,0)\n",
    "jacobian"
   ]
  },
  {
   "attachments": {},
   "cell_type": "markdown",
   "metadata": {},
   "source": [
    "Again we verified that dp and torch are giving the same results.\n",
    "\n",
    "Let us do a manual forward prop for fun."
   ]
  },
  {
   "cell_type": "code",
   "execution_count": 12,
   "metadata": {},
   "outputs": [],
   "source": [
    "# Manually compute gradient\n",
    "weights = net.linear.weight\n",
    "biases = net.linear.bias"
   ]
  },
  {
   "cell_type": "code",
   "execution_count": 13,
   "metadata": {},
   "outputs": [
    {
     "data": {
      "text/plain": [
       "(tensor([1.7470], grad_fn=<AddBackward0>),\n",
       " tensor([1.7470], grad_fn=<AddBackward0>))"
      ]
     },
     "execution_count": 13,
     "metadata": {},
     "output_type": "execute_result"
    }
   ],
   "source": [
    "output = torch.matmul(X, weights.t()) + biases\n",
    "y, output # notice both are same. ok I am stupid"
   ]
  },
  {
   "attachments": {},
   "cell_type": "markdown",
   "metadata": {},
   "source": [
    "# 2D tensor"
   ]
  },
  {
   "cell_type": "code",
   "execution_count": 14,
   "metadata": {},
   "outputs": [
    {
     "name": "stdout",
     "output_type": "stream",
     "text": [
      "X:\n",
      " tensor([[1., 2.],\n",
      "        [3., 4.]], requires_grad=True)\n"
     ]
    }
   ],
   "source": [
    "# Create a 2D input tensor\n",
    "X = torch.tensor([[1.0, 2.0], [3.0, 4.0]], requires_grad=True)\n",
    "print(\"X:\\n\", X)"
   ]
  },
  {
   "cell_type": "code",
   "execution_count": 15,
   "metadata": {},
   "outputs": [],
   "source": [
    "# Define a function that operates on the input tensor\n",
    "def func(x):\n",
    "    return torch.sin(x)"
   ]
  },
  {
   "cell_type": "code",
   "execution_count": 16,
   "metadata": {},
   "outputs": [
    {
     "name": "stdout",
     "output_type": "stream",
     "text": [
      "y:\n",
      " tensor([[ 0.8415,  0.9093],\n",
      "        [ 0.1411, -0.7568]], grad_fn=<SinBackward0>)\n"
     ]
    }
   ],
   "source": [
    "# Compute the output tensor\n",
    "y = func(X)\n",
    "print(\"y:\\n\", y)"
   ]
  },
  {
   "cell_type": "code",
   "execution_count": 17,
   "metadata": {},
   "outputs": [
    {
     "name": "stdout",
     "output_type": "stream",
     "text": [
      "Gradient (dy/dx): tensor([[ 0.5403, -0.4161],\n",
      "        [-0.9900, -0.6536]])\n"
     ]
    }
   ],
   "source": [
    "# pytorch gradient\n",
    "# Calculate the gradient manually using torch.autograd.grad()\n",
    "gradient = torch.autograd.grad(y, X, grad_outputs=torch.ones_like(y), retain_graph=True)[0]\n",
    "print(\"Gradient (dy/dx):\", gradient)"
   ]
  },
  {
   "cell_type": "code",
   "execution_count": 18,
   "metadata": {},
   "outputs": [],
   "source": [
    "# Instantiate the Jacobian module\n",
    "jacobian = dp.constraint.Jacobian(X, y)"
   ]
  },
  {
   "attachments": {},
   "cell_type": "markdown",
   "metadata": {},
   "source": [
    "says the first column denotes x-coodinates and the the second column denotes the y-coordintes."
   ]
  },
  {
   "cell_type": "code",
   "execution_count": 19,
   "metadata": {},
   "outputs": [
    {
     "data": {
      "text/plain": [
       "(tensor([[ 0.5403],\n",
       "         [-0.9900]], grad_fn=<IndexBackward0>),\n",
       " tensor([[-0.4161],\n",
       "         [-0.6536]], grad_fn=<IndexBackward0>))"
      ]
     },
     "execution_count": 19,
     "metadata": {},
     "output_type": "execute_result"
    }
   ],
   "source": [
    "# dy/dx-coordinates, dy/dy-coordinates \n",
    "jacobian(0, 0), jacobian(0, 1)"
   ]
  },
  {
   "attachments": {},
   "cell_type": "markdown",
   "metadata": {},
   "source": [
    "# Gradients with actual geometry"
   ]
  },
  {
   "cell_type": "code",
   "execution_count": 20,
   "metadata": {},
   "outputs": [],
   "source": [
    "# Let us make a simple rectangle\n",
    "X = dp.spaces.R2('x') #  2D space stencil\n",
    "R = dp.domains.Parallelogram(X, [0,0], [1,0], [0,1])"
   ]
  },
  {
   "cell_type": "code",
   "execution_count": 21,
   "metadata": {},
   "outputs": [
    {
     "data": {
      "image/png": "[encoded data removed]",
      "text/plain": [
       "<Figure size 640x480 with 1 Axes>"
      ]
     },
     "metadata": {},
     "output_type": "display_data"
    }
   ],
   "source": [
    "collocation_points = dp.samplers.RandomUniformSampler(R, n_points = 100)\n",
    "dp.utils.scatter(X, collocation_points)"
   ]
  },
  {
   "cell_type": "code",
   "execution_count": 22,
   "metadata": {},
   "outputs": [],
   "source": [
    "# sample collcocation points\n",
    "collocation_points = dp.constraint.PDE(geom = R,\n",
    "                                       sampling_strategy= \"random\",\n",
    "                                       no_points = 100)"
   ]
  },
  {
   "cell_type": "code",
   "execution_count": 23,
   "metadata": {},
   "outputs": [
    {
     "data": {
      "text/plain": [
       "torch.Size([100, 2])"
      ]
     },
     "execution_count": 23,
     "metadata": {},
     "output_type": "execute_result"
    }
   ],
   "source": [
    "collocation_points_sampled = collocation_points.sampler_object().sample_points().as_tensor\n",
    "collocation_points_sampled.size()"
   ]
  },
  {
   "cell_type": "code",
   "execution_count": 24,
   "metadata": {},
   "outputs": [
    {
     "data": {
      "text/plain": [
       "torch.Size([100, 1])"
      ]
     },
     "execution_count": 24,
     "metadata": {},
     "output_type": "execute_result"
    }
   ],
   "source": [
    "collocation_points_labels = collocation_points.sample_labels(collocation_points_sampled).unsqueeze(1)\n",
    "collocation_points_labels.size()"
   ]
  },
  {
   "cell_type": "code",
   "execution_count": 25,
   "metadata": {},
   "outputs": [],
   "source": [
    "import matplotlib.pyplot as plt"
   ]
  },
  {
   "cell_type": "code",
   "execution_count": 26,
   "metadata": {},
   "outputs": [
    {
     "data": {
      "text/plain": [
       "<matplotlib.colorbar.Colorbar at 0x7f3813622c70>"
      ]
     },
     "execution_count": 26,
     "metadata": {},
     "output_type": "execute_result"
    },
    {
     "data": {
      "image/png": "[encoded data removed]",
      "text/plain": [
       "<Figure size 640x480 with 2 Axes>"
      ]
     },
     "metadata": {},
     "output_type": "display_data"
    }
   ],
   "source": [
    "# The variation in BCs based on the provided function : lambda X: X[:,0]**2\n",
    "plt.scatter(collocation_points_sampled[:,0], collocation_points_sampled[:,1], c = collocation_points_labels, cmap=plt.get_cmap('plasma',10))\n",
    "plt.colorbar()"
   ]
  },
  {
   "cell_type": "code",
   "execution_count": 27,
   "metadata": {},
   "outputs": [
    {
     "data": {
      "text/plain": [
       "torch.Size([100, 1])"
      ]
     },
     "execution_count": 27,
     "metadata": {},
     "output_type": "execute_result"
    }
   ],
   "source": [
    "collocation_points_sampled.requires_grad = True # enable chain rule\n",
    "\n",
    "# to differentiate a function, we need an actual function/neural network which take the collocation_points_sampled as the input and outputs the y\n",
    "y = (collocation_points_sampled[:,0] ** 2).unsqueeze(1) + collocation_points_labels\n",
    "y.size()"
   ]
  },
  {
   "cell_type": "code",
   "execution_count": 28,
   "metadata": {},
   "outputs": [
    {
     "name": "stdout",
     "output_type": "stream",
     "text": [
      "Gradient (dy/dx): tensor([[1.6971, 0.0000],\n",
      "        [0.2096, 0.0000],\n",
      "        [1.6980, 0.0000],\n",
      "        [0.6550, 0.0000],\n",
      "        [1.9959, 0.0000],\n",
      "        [0.5019, 0.0000],\n",
      "        [0.7608, 0.0000],\n",
      "        [0.1315, 0.0000],\n",
      "        [0.4378, 0.0000],\n",
      "        [0.6671, 0.0000],\n",
      "        [0.2377, 0.0000],\n",
      "        [1.9816, 0.0000],\n",
      "        [1.0509, 0.0000],\n",
      "        [0.2881, 0.0000],\n",
      "        [0.5613, 0.0000],\n",
      "        [0.3172, 0.0000],\n",
      "        [0.3480, 0.0000],\n",
      "        [1.9644, 0.0000],\n",
      "        [0.2433, 0.0000],\n",
      "        [1.6691, 0.0000],\n",
      "        [1.6644, 0.0000],\n",
      "        [0.6180, 0.0000],\n",
      "        [0.8693, 0.0000],\n",
      "        [0.0422, 0.0000],\n",
      "        [1.6977, 0.0000],\n",
      "        [0.2338, 0.0000],\n",
      "        [0.1105, 0.0000],\n",
      "        [0.9783, 0.0000],\n",
      "        [1.5020, 0.0000],\n",
      "        [0.5738, 0.0000],\n",
      "        [0.2109, 0.0000],\n",
      "        [0.5761, 0.0000],\n",
      "        [0.7736, 0.0000],\n",
      "        [0.3855, 0.0000],\n",
      "        [1.1833, 0.0000],\n",
      "        [0.7011, 0.0000],\n",
      "        [0.7264, 0.0000],\n",
      "        [0.1301, 0.0000],\n",
      "        [1.5770, 0.0000],\n",
      "        [0.8034, 0.0000],\n",
      "        [1.8839, 0.0000],\n",
      "        [1.6331, 0.0000],\n",
      "        [0.3845, 0.0000],\n",
      "        [1.3171, 0.0000],\n",
      "        [0.0173, 0.0000],\n",
      "        [0.9338, 0.0000],\n",
      "        [1.9327, 0.0000],\n",
      "        [1.9801, 0.0000],\n",
      "        [1.2726, 0.0000],\n",
      "        [0.6012, 0.0000],\n",
      "        [0.5737, 0.0000],\n",
      "        [0.5064, 0.0000],\n",
      "        [0.6403, 0.0000],\n",
      "        [1.8220, 0.0000],\n",
      "        [0.3200, 0.0000],\n",
      "        [0.6535, 0.0000],\n",
      "        [1.3834, 0.0000],\n",
      "        [1.3673, 0.0000],\n",
      "        [1.4638, 0.0000],\n",
      "        [0.8342, 0.0000],\n",
      "        [1.3446, 0.0000],\n",
      "        [0.9965, 0.0000],\n",
      "        [0.8164, 0.0000],\n",
      "        [0.6702, 0.0000],\n",
      "        [1.0299, 0.0000],\n",
      "        [1.7069, 0.0000],\n",
      "        [0.6405, 0.0000],\n",
      "        [1.3619, 0.0000],\n",
      "        [1.5273, 0.0000],\n",
      "        [0.2458, 0.0000],\n",
      "        [1.6788, 0.0000],\n",
      "        [0.7813, 0.0000],\n",
      "        [0.0316, 0.0000],\n",
      "        [0.5416, 0.0000],\n",
      "        [1.3093, 0.0000],\n",
      "        [0.8038, 0.0000],\n",
      "        [1.9349, 0.0000],\n",
      "        [0.6886, 0.0000],\n",
      "        [0.6018, 0.0000],\n",
      "        [1.0714, 0.0000],\n",
      "        [1.7922, 0.0000],\n",
      "        [1.7829, 0.0000],\n",
      "        [0.1703, 0.0000],\n",
      "        [1.0399, 0.0000],\n",
      "        [0.4533, 0.0000],\n",
      "        [0.2548, 0.0000],\n",
      "        [1.4866, 0.0000],\n",
      "        [0.0812, 0.0000],\n",
      "        [0.6589, 0.0000],\n",
      "        [1.6869, 0.0000],\n",
      "        [0.6608, 0.0000],\n",
      "        [0.6812, 0.0000],\n",
      "        [0.9057, 0.0000],\n",
      "        [1.6985, 0.0000],\n",
      "        [1.6166, 0.0000],\n",
      "        [1.2551, 0.0000],\n",
      "        [1.3294, 0.0000],\n",
      "        [0.4913, 0.0000],\n",
      "        [0.0065, 0.0000],\n",
      "        [0.9934, 0.0000]])\n"
     ]
    }
   ],
   "source": [
    "# pytorch gradient\n",
    "# Calculate the gradient manually using torch.autograd.grad()\n",
    "gradient = torch.autograd.grad(y, collocation_points_sampled, grad_outputs=torch.ones_like(y), retain_graph=True)[0]\n",
    "print(\"Gradient (dy/dx):\", gradient)"
   ]
  },
  {
   "cell_type": "code",
   "execution_count": 29,
   "metadata": {},
   "outputs": [],
   "source": [
    "# Instantiate the Jacobian module\n",
    "jacobian = dp.constraint.Jacobian(collocation_points_sampled, y)"
   ]
  },
  {
   "cell_type": "code",
   "execution_count": 30,
   "metadata": {},
   "outputs": [
    {
     "data": {
      "text/plain": [
       "tensor([[1.6971],\n",
       "        [0.2096],\n",
       "        [1.6980],\n",
       "        [0.6550],\n",
       "        [1.9959],\n",
       "        [0.5019],\n",
       "        [0.7608],\n",
       "        [0.1315],\n",
       "        [0.4378],\n",
       "        [0.6671],\n",
       "        [0.2377],\n",
       "        [1.9816],\n",
       "        [1.0509],\n",
       "        [0.2881],\n",
       "        [0.5613],\n",
       "        [0.3172],\n",
       "        [0.3480],\n",
       "        [1.9644],\n",
       "        [0.2433],\n",
       "        [1.6691],\n",
       "        [1.6644],\n",
       "        [0.6180],\n",
       "        [0.8693],\n",
       "        [0.0422],\n",
       "        [1.6977],\n",
       "        [0.2338],\n",
       "        [0.1105],\n",
       "        [0.9783],\n",
       "        [1.5020],\n",
       "        [0.5738],\n",
       "        [0.2109],\n",
       "        [0.5761],\n",
       "        [0.7736],\n",
       "        [0.3855],\n",
       "        [1.1833],\n",
       "        [0.7011],\n",
       "        [0.7264],\n",
       "        [0.1301],\n",
       "        [1.5770],\n",
       "        [0.8034],\n",
       "        [1.8839],\n",
       "        [1.6331],\n",
       "        [0.3845],\n",
       "        [1.3171],\n",
       "        [0.0173],\n",
       "        [0.9338],\n",
       "        [1.9327],\n",
       "        [1.9801],\n",
       "        [1.2726],\n",
       "        [0.6012],\n",
       "        [0.5737],\n",
       "        [0.5064],\n",
       "        [0.6403],\n",
       "        [1.8220],\n",
       "        [0.3200],\n",
       "        [0.6535],\n",
       "        [1.3834],\n",
       "        [1.3673],\n",
       "        [1.4638],\n",
       "        [0.8342],\n",
       "        [1.3446],\n",
       "        [0.9965],\n",
       "        [0.8164],\n",
       "        [0.6702],\n",
       "        [1.0299],\n",
       "        [1.7069],\n",
       "        [0.6405],\n",
       "        [1.3619],\n",
       "        [1.5273],\n",
       "        [0.2458],\n",
       "        [1.6788],\n",
       "        [0.7813],\n",
       "        [0.0316],\n",
       "        [0.5416],\n",
       "        [1.3093],\n",
       "        [0.8038],\n",
       "        [1.9349],\n",
       "        [0.6886],\n",
       "        [0.6018],\n",
       "        [1.0714],\n",
       "        [1.7922],\n",
       "        [1.7829],\n",
       "        [0.1703],\n",
       "        [1.0399],\n",
       "        [0.4533],\n",
       "        [0.2548],\n",
       "        [1.4866],\n",
       "        [0.0812],\n",
       "        [0.6589],\n",
       "        [1.6869],\n",
       "        [0.6608],\n",
       "        [0.6812],\n",
       "        [0.9057],\n",
       "        [1.6985],\n",
       "        [1.6166],\n",
       "        [1.2551],\n",
       "        [1.3294],\n",
       "        [0.4913],\n",
       "        [0.0065],\n",
       "        [0.9934]], grad_fn=<IndexBackward0>)"
      ]
     },
     "execution_count": 30,
     "metadata": {},
     "output_type": "execute_result"
    }
   ],
   "source": [
    "# dy/dx-coordinates, \n",
    "jacobian(i = 0, j = 0)"
   ]
  },
  {
   "cell_type": "code",
   "execution_count": 31,
   "metadata": {},
   "outputs": [
    {
     "data": {
      "text/plain": [
       "tensor([[0.],\n",
       "        [0.],\n",
       "        [0.],\n",
       "        [0.],\n",
       "        [0.],\n",
       "        [0.],\n",
       "        [0.],\n",
       "        [0.],\n",
       "        [0.],\n",
       "        [0.],\n",
       "        [0.],\n",
       "        [0.],\n",
       "        [0.],\n",
       "        [0.],\n",
       "        [0.],\n",
       "        [0.],\n",
       "        [0.],\n",
       "        [0.],\n",
       "        [0.],\n",
       "        [0.],\n",
       "        [0.],\n",
       "        [0.],\n",
       "        [0.],\n",
       "        [0.],\n",
       "        [0.],\n",
       "        [0.],\n",
       "        [0.],\n",
       "        [0.],\n",
       "        [0.],\n",
       "        [0.],\n",
       "        [0.],\n",
       "        [0.],\n",
       "        [0.],\n",
       "        [0.],\n",
       "        [0.],\n",
       "        [0.],\n",
       "        [0.],\n",
       "        [0.],\n",
       "        [0.],\n",
       "        [0.],\n",
       "        [0.],\n",
       "        [0.],\n",
       "        [0.],\n",
       "        [0.],\n",
       "        [0.],\n",
       "        [0.],\n",
       "        [0.],\n",
       "        [0.],\n",
       "        [0.],\n",
       "        [0.],\n",
       "        [0.],\n",
       "        [0.],\n",
       "        [0.],\n",
       "        [0.],\n",
       "        [0.],\n",
       "        [0.],\n",
       "        [0.],\n",
       "        [0.],\n",
       "        [0.],\n",
       "        [0.],\n",
       "        [0.],\n",
       "        [0.],\n",
       "        [0.],\n",
       "        [0.],\n",
       "        [0.],\n",
       "        [0.],\n",
       "        [0.],\n",
       "        [0.],\n",
       "        [0.],\n",
       "        [0.],\n",
       "        [0.],\n",
       "        [0.],\n",
       "        [0.],\n",
       "        [0.],\n",
       "        [0.],\n",
       "        [0.],\n",
       "        [0.],\n",
       "        [0.],\n",
       "        [0.],\n",
       "        [0.],\n",
       "        [0.],\n",
       "        [0.],\n",
       "        [0.],\n",
       "        [0.],\n",
       "        [0.],\n",
       "        [0.],\n",
       "        [0.],\n",
       "        [0.],\n",
       "        [0.],\n",
       "        [0.],\n",
       "        [0.],\n",
       "        [0.],\n",
       "        [0.],\n",
       "        [0.],\n",
       "        [0.],\n",
       "        [0.],\n",
       "        [0.],\n",
       "        [0.],\n",
       "        [0.],\n",
       "        [0.]], grad_fn=<IndexBackward0>)"
      ]
     },
     "execution_count": 31,
     "metadata": {},
     "output_type": "execute_result"
    }
   ],
   "source": [
    "#dy/dy-coordinates \n",
    "jacobian(i = 0, j = 1)"
   ]
  },
  {
   "cell_type": "code",
   "execution_count": null,
   "metadata": {},
   "outputs": [],
   "source": []
  }
 ],
 "metadata": {
  "kernelspec": {
   "display_name": ".venv",
   "language": "python",
   "name": "python3"
  },
  "language_info": {
   "codemirror_mode": {
    "name": "ipython",
    "version": 3
   },
   "file_extension": ".py",
   "mimetype": "text/x-python",
   "name": "python",
   "nbconvert_exporter": "python",
   "pygments_lexer": "ipython3",
   "version": "3.8.10"
  },
  "orig_nbformat": 4
 },
 "nbformat": 4,
 "nbformat_minor": 2
}
