{
 "cells": [
  {
   "cell_type": "code",
   "execution_count": 1,
   "metadata": {},
   "outputs": [],
   "source": [
    "# This is only valid when the package is not installed\n",
    "import sys\n",
    "sys.path.append('../../') # two folders up"
   ]
  },
  {
   "cell_type": "code",
   "execution_count": 2,
   "metadata": {},
   "outputs": [
    {
     "name": "stderr",
     "output_type": "stream",
     "text": [
      "Using default backend: PyTorch\n",
      "Using Pytorch:  2.0.1+cu117\n"
     ]
    }
   ],
   "source": [
    "import DeepINN as dp"
   ]
  },
  {
   "cell_type": "code",
   "execution_count": 3,
   "metadata": {},
   "outputs": [],
   "source": [
    "from torch import nn\n",
    "import torch"
   ]
  },
  {
   "attachments": {},
   "cell_type": "markdown",
   "metadata": {},
   "source": [
    "# Test 1"
   ]
  },
  {
   "cell_type": "code",
   "execution_count": 4,
   "metadata": {},
   "outputs": [
    {
     "name": "stdout",
     "output_type": "stream",
     "text": [
      "x: tensor([2.], requires_grad=True)\n",
      "y: tensor([5.], grad_fn=<AddBackward0>)\n"
     ]
    }
   ],
   "source": [
    "x = torch.tensor([2.0], requires_grad = True)\n",
    "print(\"x:\", x)\n",
    "\n",
    "y = x**2 + 1\n",
    "print(\"y:\", y)"
   ]
  },
  {
   "attachments": {},
   "cell_type": "markdown",
   "metadata": {},
   "source": [
    "$$y=x^2 +1\\\\\n",
    "\\frac{dy}{dx} = 2x$$"
   ]
  },
  {
   "cell_type": "code",
   "execution_count": 5,
   "metadata": {},
   "outputs": [
    {
     "name": "stdout",
     "output_type": "stream",
     "text": [
      "Gradient (dy/dx): tensor([4.])\n"
     ]
    }
   ],
   "source": [
    "# Calculate the gradient manually using torch.autograd.grad()\n",
    "gradient = torch.autograd.grad(y, x, retain_graph=True)[0]\n",
    "print(\"Gradient (dy/dx):\", gradient)"
   ]
  },
  {
   "cell_type": "code",
   "execution_count": 6,
   "metadata": {},
   "outputs": [
    {
     "data": {
      "text/plain": [
       "<DeepINN.constraint.gradients.Jacobian at 0x7fd72c295cd0>"
      ]
     },
     "execution_count": 6,
     "metadata": {},
     "output_type": "execute_result"
    }
   ],
   "source": [
    "jacobian = dp.constraint.Jacobian(x, y)\n",
    "# jacobian_matrix = jacobian(0, 1)\n",
    "jacobian"
   ]
  },
  {
   "attachments": {},
   "cell_type": "markdown",
   "metadata": {},
   "source": [
    "# A note for the future.\n",
    "If we need to use the same graph to computer more gradients then we need to use retain_graph=True\n",
    "We need to investigate whether we need this."
   ]
  },
  {
   "cell_type": "code",
   "execution_count": 7,
   "metadata": {},
   "outputs": [
    {
     "data": {
      "text/plain": [
       "tensor([4.])"
      ]
     },
     "execution_count": 7,
     "metadata": {},
     "output_type": "execute_result"
    }
   ],
   "source": [
    "jacobian(0,0)\n"
   ]
  },
  {
   "attachments": {},
   "cell_type": "markdown",
   "metadata": {},
   "source": [
    "here we confirmed that both compute the same gradient. \n",
    "\n",
    "# 1D tensor with multiple values."
   ]
  },
  {
   "cell_type": "code",
   "execution_count": 8,
   "metadata": {},
   "outputs": [],
   "source": [
    "# Define a simple neural network for demonstration\n",
    "class Net(nn.Module):\n",
    "    def __init__(self):\n",
    "        super(Net, self).__init__()\n",
    "        self.linear = nn.Linear(2, 1) # automatic weights initialisation\n",
    "\n",
    "    def forward(self, x):\n",
    "        return self.linear(x)"
   ]
  },
  {
   "cell_type": "code",
   "execution_count": 9,
   "metadata": {},
   "outputs": [
    {
     "data": {
      "text/plain": [
       "(tensor([1., 2.], requires_grad=True), torch.Size([2]))"
      ]
     },
     "execution_count": 9,
     "metadata": {},
     "output_type": "execute_result"
    }
   ],
   "source": [
    "# Create random input tensor\n",
    "X = torch.tensor([1.0, 2.0], requires_grad=True)\n",
    "X, X.size()"
   ]
  },
  {
   "cell_type": "code",
   "execution_count": 10,
   "metadata": {},
   "outputs": [
    {
     "data": {
      "text/plain": [
       "tensor([-0.7828], grad_fn=<AddBackward0>)"
      ]
     },
     "execution_count": 10,
     "metadata": {},
     "output_type": "execute_result"
    }
   ],
   "source": [
    "# Instantiate the neural network\n",
    "net = Net()\n",
    "\n",
    "# Forward pass\n",
    "y = net(X)\n",
    "y"
   ]
  },
  {
   "cell_type": "code",
   "execution_count": 11,
   "metadata": {},
   "outputs": [
    {
     "name": "stdout",
     "output_type": "stream",
     "text": [
      "Gradient (dy/dx): tensor([ 0.1618, -0.5502])\n"
     ]
    }
   ],
   "source": [
    "# pytorch gradient\n",
    "# Calculate the gradient manually using torch.autograd.grad()\n",
    "gradient = torch.autograd.grad(y, X, retain_graph=True)[0]\n",
    "print(\"Gradient (dy/dx):\", gradient)"
   ]
  },
  {
   "cell_type": "code",
   "execution_count": 12,
   "metadata": {},
   "outputs": [],
   "source": [
    "jacobian = dp.constraint.Jacobian(X, y)"
   ]
  },
  {
   "cell_type": "code",
   "execution_count": 13,
   "metadata": {},
   "outputs": [],
   "source": [
    "# Compute the Jacobian matrix\n",
    "jacobian_matrix = jacobian(0, 0)  # Compute dy_0/dX_1"
   ]
  },
  {
   "cell_type": "code",
   "execution_count": 14,
   "metadata": {},
   "outputs": [
    {
     "data": {
      "text/plain": [
       "tensor([ 0.1618, -0.5502])"
      ]
     },
     "execution_count": 14,
     "metadata": {},
     "output_type": "execute_result"
    }
   ],
   "source": [
    "jacobian_matrix"
   ]
  },
  {
   "attachments": {},
   "cell_type": "markdown",
   "metadata": {},
   "source": [
    "Again we verified that dp and torch are giving the same results.\n",
    "\n",
    "Let us do a manual forward prop for fun."
   ]
  },
  {
   "cell_type": "code",
   "execution_count": 15,
   "metadata": {},
   "outputs": [],
   "source": [
    "# Manually compute gradient\n",
    "weights = net.linear.weight\n",
    "biases = net.linear.bias"
   ]
  },
  {
   "cell_type": "code",
   "execution_count": 16,
   "metadata": {},
   "outputs": [
    {
     "data": {
      "text/plain": [
       "(tensor([-0.7828], grad_fn=<AddBackward0>),\n",
       " tensor([-0.7828], grad_fn=<AddBackward0>))"
      ]
     },
     "execution_count": 16,
     "metadata": {},
     "output_type": "execute_result"
    }
   ],
   "source": [
    "output = torch.matmul(X, weights.t()) + biases\n",
    "y, output # notice both are same. ok I am stupid"
   ]
  },
  {
   "attachments": {},
   "cell_type": "markdown",
   "metadata": {},
   "source": [
    "# 2D tensor"
   ]
  },
  {
   "cell_type": "code",
   "execution_count": 17,
   "metadata": {},
   "outputs": [
    {
     "name": "stdout",
     "output_type": "stream",
     "text": [
      "X:\n",
      " tensor([[1., 2.],\n",
      "        [3., 4.]], requires_grad=True)\n"
     ]
    }
   ],
   "source": [
    "# Create a 2D input tensor\n",
    "X = torch.tensor([[1.0, 2.0], [3.0, 4.0]], requires_grad=True)\n",
    "print(\"X:\\n\", X)"
   ]
  },
  {
   "cell_type": "code",
   "execution_count": 18,
   "metadata": {},
   "outputs": [],
   "source": [
    "# Define a function that operates on the input tensor\n",
    "def func(x):\n",
    "    return torch.sin(x)"
   ]
  },
  {
   "cell_type": "code",
   "execution_count": 19,
   "metadata": {},
   "outputs": [
    {
     "name": "stdout",
     "output_type": "stream",
     "text": [
      "y:\n",
      " tensor([[ 0.8415,  0.9093],\n",
      "        [ 0.1411, -0.7568]], grad_fn=<SinBackward0>)\n"
     ]
    }
   ],
   "source": [
    "# Compute the output tensor\n",
    "y = func(X)\n",
    "print(\"y:\\n\", y)"
   ]
  },
  {
   "cell_type": "code",
   "execution_count": 20,
   "metadata": {},
   "outputs": [
    {
     "name": "stdout",
     "output_type": "stream",
     "text": [
      "Gradient (dy/dx): tensor([[ 0.5403, -0.4161],\n",
      "        [-0.9900, -0.6536]])\n"
     ]
    }
   ],
   "source": [
    "# pytorch gradient\n",
    "# Calculate the gradient manually using torch.autograd.grad()\n",
    "gradient = torch.autograd.grad(y, X, grad_outputs=torch.ones_like(y), retain_graph=True)[0]\n",
    "print(\"Gradient (dy/dx):\", gradient)"
   ]
  },
  {
   "cell_type": "code",
   "execution_count": 21,
   "metadata": {},
   "outputs": [],
   "source": [
    "# Instantiate the Jacobian module\n",
    "jacobian = dp.constraint.Jacobian(X, y)"
   ]
  },
  {
   "attachments": {},
   "cell_type": "markdown",
   "metadata": {},
   "source": [
    "says the first column denotes x-coodinates and the the second column denotes the y-coordintes."
   ]
  },
  {
   "cell_type": "code",
   "execution_count": 22,
   "metadata": {},
   "outputs": [
    {
     "data": {
      "text/plain": [
       "(tensor([[ 0.5403],\n",
       "         [-0.9900]], grad_fn=<IndexBackward0>),\n",
       " tensor([[-0.4161],\n",
       "         [-0.6536]], grad_fn=<IndexBackward0>))"
      ]
     },
     "execution_count": 22,
     "metadata": {},
     "output_type": "execute_result"
    }
   ],
   "source": [
    "# dy/dx-coordinates, dy/dy-coordinates \n",
    "jacobian(0, 0), jacobian(0, 1)"
   ]
  },
  {
   "attachments": {},
   "cell_type": "markdown",
   "metadata": {},
   "source": [
    "# Gradients with actual geometry"
   ]
  },
  {
   "cell_type": "code",
   "execution_count": 23,
   "metadata": {},
   "outputs": [],
   "source": [
    "# Let us make a simple rectangle\n",
    "X = dp.spaces.R2('x') #  2D space stencil\n",
    "R = dp.domains.Parallelogram(X, [0,0], [1,0], [0,1])"
   ]
  },
  {
   "cell_type": "code",
   "execution_count": 24,
   "metadata": {},
   "outputs": [
    {
     "data": {
      "image/png": "[encoded data removed]",
      "text/plain": [
       "<Figure size 640x480 with 1 Axes>"
      ]
     },
     "metadata": {},
     "output_type": "display_data"
    }
   ],
   "source": [
    "collocation_points = dp.samplers.RandomUniformSampler(R, n_points = 100)\n",
    "dp.utils.scatter(X, collocation_points)"
   ]
  },
  {
   "cell_type": "code",
   "execution_count": 25,
   "metadata": {},
   "outputs": [],
   "source": [
    "# sample collcocation points\n",
    "collocation_points = dp.constraint.PDE(geom = R,\n",
    "                                       sampling_strategy= \"random\",\n",
    "                                       no_points = 100)"
   ]
  },
  {
   "cell_type": "code",
   "execution_count": 26,
   "metadata": {},
   "outputs": [
    {
     "data": {
      "text/plain": [
       "torch.Size([100, 2])"
      ]
     },
     "execution_count": 26,
     "metadata": {},
     "output_type": "execute_result"
    }
   ],
   "source": [
    "collocation_points_sampled = collocation_points.sampler_object().sample_points().as_tensor\n",
    "collocation_points_sampled.size()"
   ]
  },
  {
   "cell_type": "code",
   "execution_count": 27,
   "metadata": {},
   "outputs": [
    {
     "data": {
      "text/plain": [
       "torch.Size([100, 1])"
      ]
     },
     "execution_count": 27,
     "metadata": {},
     "output_type": "execute_result"
    }
   ],
   "source": [
    "collocation_points_labels = collocation_points.sample_labels(collocation_points_sampled).unsqueeze(1)\n",
    "collocation_points_labels.size()"
   ]
  },
  {
   "cell_type": "code",
   "execution_count": 28,
   "metadata": {},
   "outputs": [],
   "source": [
    "import matplotlib.pyplot as plt"
   ]
  },
  {
   "cell_type": "code",
   "execution_count": 29,
   "metadata": {},
   "outputs": [
    {
     "data": {
      "text/plain": [
       "<matplotlib.colorbar.Colorbar at 0x7fd611577df0>"
      ]
     },
     "execution_count": 29,
     "metadata": {},
     "output_type": "execute_result"
    },
    {
     "data": {
      "image/png": "[encoded data removed]",
      "text/plain": [
       "<Figure size 640x480 with 2 Axes>"
      ]
     },
     "metadata": {},
     "output_type": "display_data"
    }
   ],
   "source": [
    "# The variation in BCs based on the provided function : lambda X: X[:,0]**2\n",
    "plt.scatter(collocation_points_sampled[:,0], collocation_points_sampled[:,1], c = collocation_points_labels, cmap=plt.get_cmap('plasma',10))\n",
    "plt.colorbar()"
   ]
  },
  {
   "cell_type": "code",
   "execution_count": 30,
   "metadata": {},
   "outputs": [
    {
     "data": {
      "text/plain": [
       "torch.Size([100, 1])"
      ]
     },
     "execution_count": 30,
     "metadata": {},
     "output_type": "execute_result"
    }
   ],
   "source": [
    "collocation_points_sampled.requires_grad = True # enable chain rule\n",
    "\n",
    "# to differentiate a function, we need an actual function/neural network which take the collocation_points_sampled as the input and outputs the y\n",
    "y = (collocation_points_sampled[:,0] ** 2).unsqueeze(1) + collocation_points_labels\n",
    "y.size()"
   ]
  },
  {
   "cell_type": "code",
   "execution_count": 31,
   "metadata": {},
   "outputs": [
    {
     "name": "stdout",
     "output_type": "stream",
     "text": [
      "Gradient (dy/dx): tensor([[1.2057, 0.0000],\n",
      "        [1.2070, 0.0000],\n",
      "        [1.8460, 0.0000],\n",
      "        [1.8055, 0.0000],\n",
      "        [1.9013, 0.0000],\n",
      "        [0.6616, 0.0000],\n",
      "        [0.4717, 0.0000],\n",
      "        [0.4091, 0.0000],\n",
      "        [1.6107, 0.0000],\n",
      "        [0.9305, 0.0000],\n",
      "        [0.5020, 0.0000],\n",
      "        [1.1981, 0.0000],\n",
      "        [0.7711, 0.0000],\n",
      "        [0.9842, 0.0000],\n",
      "        [1.7872, 0.0000],\n",
      "        [1.5279, 0.0000],\n",
      "        [1.3354, 0.0000],\n",
      "        [1.1736, 0.0000],\n",
      "        [1.5407, 0.0000],\n",
      "        [1.8232, 0.0000],\n",
      "        [1.4812, 0.0000],\n",
      "        [1.5153, 0.0000],\n",
      "        [1.7039, 0.0000],\n",
      "        [1.5274, 0.0000],\n",
      "        [0.0825, 0.0000],\n",
      "        [0.0703, 0.0000],\n",
      "        [1.4697, 0.0000],\n",
      "        [1.5987, 0.0000],\n",
      "        [0.1506, 0.0000],\n",
      "        [1.7178, 0.0000],\n",
      "        [1.4424, 0.0000],\n",
      "        [0.5948, 0.0000],\n",
      "        [0.9421, 0.0000],\n",
      "        [0.1680, 0.0000],\n",
      "        [1.9178, 0.0000],\n",
      "        [0.6019, 0.0000],\n",
      "        [1.6844, 0.0000],\n",
      "        [1.2149, 0.0000],\n",
      "        [0.4890, 0.0000],\n",
      "        [0.5155, 0.0000],\n",
      "        [1.4386, 0.0000],\n",
      "        [0.8088, 0.0000],\n",
      "        [0.0478, 0.0000],\n",
      "        [0.5978, 0.0000],\n",
      "        [0.0877, 0.0000],\n",
      "        [1.3471, 0.0000],\n",
      "        [0.1224, 0.0000],\n",
      "        [1.7176, 0.0000],\n",
      "        [0.3844, 0.0000],\n",
      "        [0.2759, 0.0000],\n",
      "        [1.3766, 0.0000],\n",
      "        [1.6062, 0.0000],\n",
      "        [1.9843, 0.0000],\n",
      "        [1.2882, 0.0000],\n",
      "        [1.3792, 0.0000],\n",
      "        [1.6297, 0.0000],\n",
      "        [0.4018, 0.0000],\n",
      "        [1.7882, 0.0000],\n",
      "        [1.0498, 0.0000],\n",
      "        [1.5399, 0.0000],\n",
      "        [0.0780, 0.0000],\n",
      "        [0.0811, 0.0000],\n",
      "        [1.1081, 0.0000],\n",
      "        [1.9903, 0.0000],\n",
      "        [1.8353, 0.0000],\n",
      "        [0.3095, 0.0000],\n",
      "        [0.3067, 0.0000],\n",
      "        [0.6911, 0.0000],\n",
      "        [1.7639, 0.0000],\n",
      "        [0.1101, 0.0000],\n",
      "        [1.7278, 0.0000],\n",
      "        [1.4426, 0.0000],\n",
      "        [1.7569, 0.0000],\n",
      "        [1.6058, 0.0000],\n",
      "        [0.8378, 0.0000],\n",
      "        [1.1969, 0.0000],\n",
      "        [1.7870, 0.0000],\n",
      "        [0.8795, 0.0000],\n",
      "        [1.1993, 0.0000],\n",
      "        [1.9777, 0.0000],\n",
      "        [0.7746, 0.0000],\n",
      "        [1.4888, 0.0000],\n",
      "        [0.3739, 0.0000],\n",
      "        [1.8485, 0.0000],\n",
      "        [0.9786, 0.0000],\n",
      "        [0.6247, 0.0000],\n",
      "        [1.5595, 0.0000],\n",
      "        [1.5176, 0.0000],\n",
      "        [0.6436, 0.0000],\n",
      "        [1.2444, 0.0000],\n",
      "        [0.6674, 0.0000],\n",
      "        [0.0611, 0.0000],\n",
      "        [0.4587, 0.0000],\n",
      "        [0.0650, 0.0000],\n",
      "        [1.1608, 0.0000],\n",
      "        [0.9212, 0.0000],\n",
      "        [1.0059, 0.0000],\n",
      "        [0.3362, 0.0000],\n",
      "        [1.4670, 0.0000],\n",
      "        [1.9746, 0.0000]])\n"
     ]
    }
   ],
   "source": [
    "# pytorch gradient\n",
    "# Calculate the gradient manually using torch.autograd.grad()\n",
    "gradient = torch.autograd.grad(y, collocation_points_sampled, grad_outputs=torch.ones_like(y), retain_graph=True)[0]\n",
    "print(\"Gradient (dy/dx):\", gradient)"
   ]
  },
  {
   "cell_type": "code",
   "execution_count": 32,
   "metadata": {},
   "outputs": [],
   "source": [
    "# Instantiate the Jacobian module\n",
    "jacobian = dp.constraint.Jacobian(collocation_points_sampled, y)"
   ]
  },
  {
   "cell_type": "code",
   "execution_count": 33,
   "metadata": {},
   "outputs": [
    {
     "data": {
      "text/plain": [
       "tensor([[1.2057],\n",
       "        [1.2070],\n",
       "        [1.8460],\n",
       "        [1.8055],\n",
       "        [1.9013],\n",
       "        [0.6616],\n",
       "        [0.4717],\n",
       "        [0.4091],\n",
       "        [1.6107],\n",
       "        [0.9305],\n",
       "        [0.5020],\n",
       "        [1.1981],\n",
       "        [0.7711],\n",
       "        [0.9842],\n",
       "        [1.7872],\n",
       "        [1.5279],\n",
       "        [1.3354],\n",
       "        [1.1736],\n",
       "        [1.5407],\n",
       "        [1.8232],\n",
       "        [1.4812],\n",
       "        [1.5153],\n",
       "        [1.7039],\n",
       "        [1.5274],\n",
       "        [0.0825],\n",
       "        [0.0703],\n",
       "        [1.4697],\n",
       "        [1.5987],\n",
       "        [0.1506],\n",
       "        [1.7178],\n",
       "        [1.4424],\n",
       "        [0.5948],\n",
       "        [0.9421],\n",
       "        [0.1680],\n",
       "        [1.9178],\n",
       "        [0.6019],\n",
       "        [1.6844],\n",
       "        [1.2149],\n",
       "        [0.4890],\n",
       "        [0.5155],\n",
       "        [1.4386],\n",
       "        [0.8088],\n",
       "        [0.0478],\n",
       "        [0.5978],\n",
       "        [0.0877],\n",
       "        [1.3471],\n",
       "        [0.1224],\n",
       "        [1.7176],\n",
       "        [0.3844],\n",
       "        [0.2759],\n",
       "        [1.3766],\n",
       "        [1.6062],\n",
       "        [1.9843],\n",
       "        [1.2882],\n",
       "        [1.3792],\n",
       "        [1.6297],\n",
       "        [0.4018],\n",
       "        [1.7882],\n",
       "        [1.0498],\n",
       "        [1.5399],\n",
       "        [0.0780],\n",
       "        [0.0811],\n",
       "        [1.1081],\n",
       "        [1.9903],\n",
       "        [1.8353],\n",
       "        [0.3095],\n",
       "        [0.3067],\n",
       "        [0.6911],\n",
       "        [1.7639],\n",
       "        [0.1101],\n",
       "        [1.7278],\n",
       "        [1.4426],\n",
       "        [1.7569],\n",
       "        [1.6058],\n",
       "        [0.8378],\n",
       "        [1.1969],\n",
       "        [1.7870],\n",
       "        [0.8795],\n",
       "        [1.1993],\n",
       "        [1.9777],\n",
       "        [0.7746],\n",
       "        [1.4888],\n",
       "        [0.3739],\n",
       "        [1.8485],\n",
       "        [0.9786],\n",
       "        [0.6247],\n",
       "        [1.5595],\n",
       "        [1.5176],\n",
       "        [0.6436],\n",
       "        [1.2444],\n",
       "        [0.6674],\n",
       "        [0.0611],\n",
       "        [0.4587],\n",
       "        [0.0650],\n",
       "        [1.1608],\n",
       "        [0.9212],\n",
       "        [1.0059],\n",
       "        [0.3362],\n",
       "        [1.4670],\n",
       "        [1.9746]], grad_fn=<IndexBackward0>)"
      ]
     },
     "execution_count": 33,
     "metadata": {},
     "output_type": "execute_result"
    }
   ],
   "source": [
    "# dy/dx-coordinates, \n",
    "jacobian(i = 0, j = 0)"
   ]
  },
  {
   "cell_type": "code",
   "execution_count": 34,
   "metadata": {},
   "outputs": [
    {
     "data": {
      "text/plain": [
       "tensor([[0.],\n",
       "        [0.],\n",
       "        [0.],\n",
       "        [0.],\n",
       "        [0.],\n",
       "        [0.],\n",
       "        [0.],\n",
       "        [0.],\n",
       "        [0.],\n",
       "        [0.],\n",
       "        [0.],\n",
       "        [0.],\n",
       "        [0.],\n",
       "        [0.],\n",
       "        [0.],\n",
       "        [0.],\n",
       "        [0.],\n",
       "        [0.],\n",
       "        [0.],\n",
       "        [0.],\n",
       "        [0.],\n",
       "        [0.],\n",
       "        [0.],\n",
       "        [0.],\n",
       "        [0.],\n",
       "        [0.],\n",
       "        [0.],\n",
       "        [0.],\n",
       "        [0.],\n",
       "        [0.],\n",
       "        [0.],\n",
       "        [0.],\n",
       "        [0.],\n",
       "        [0.],\n",
       "        [0.],\n",
       "        [0.],\n",
       "        [0.],\n",
       "        [0.],\n",
       "        [0.],\n",
       "        [0.],\n",
       "        [0.],\n",
       "        [0.],\n",
       "        [0.],\n",
       "        [0.],\n",
       "        [0.],\n",
       "        [0.],\n",
       "        [0.],\n",
       "        [0.],\n",
       "        [0.],\n",
       "        [0.],\n",
       "        [0.],\n",
       "        [0.],\n",
       "        [0.],\n",
       "        [0.],\n",
       "        [0.],\n",
       "        [0.],\n",
       "        [0.],\n",
       "        [0.],\n",
       "        [0.],\n",
       "        [0.],\n",
       "        [0.],\n",
       "        [0.],\n",
       "        [0.],\n",
       "        [0.],\n",
       "        [0.],\n",
       "        [0.],\n",
       "        [0.],\n",
       "        [0.],\n",
       "        [0.],\n",
       "        [0.],\n",
       "        [0.],\n",
       "        [0.],\n",
       "        [0.],\n",
       "        [0.],\n",
       "        [0.],\n",
       "        [0.],\n",
       "        [0.],\n",
       "        [0.],\n",
       "        [0.],\n",
       "        [0.],\n",
       "        [0.],\n",
       "        [0.],\n",
       "        [0.],\n",
       "        [0.],\n",
       "        [0.],\n",
       "        [0.],\n",
       "        [0.],\n",
       "        [0.],\n",
       "        [0.],\n",
       "        [0.],\n",
       "        [0.],\n",
       "        [0.],\n",
       "        [0.],\n",
       "        [0.],\n",
       "        [0.],\n",
       "        [0.],\n",
       "        [0.],\n",
       "        [0.],\n",
       "        [0.],\n",
       "        [0.]], grad_fn=<IndexBackward0>)"
      ]
     },
     "execution_count": 34,
     "metadata": {},
     "output_type": "execute_result"
    }
   ],
   "source": [
    "#dy/dy-coordinates \n",
    "jacobian(i = 0, j = 1)"
   ]
  },
  {
   "cell_type": "code",
   "execution_count": null,
   "metadata": {},
   "outputs": [],
   "source": []
  }
 ],
 "metadata": {
  "kernelspec": {
   "display_name": ".venv",
   "language": "python",
   "name": "python3"
  },
  "language_info": {
   "codemirror_mode": {
    "name": "ipython",
    "version": 3
   },
   "file_extension": ".py",
   "mimetype": "text/x-python",
   "name": "python",
   "nbconvert_exporter": "python",
   "pygments_lexer": "ipython3",
   "version": "3.8.10"
  },
  "orig_nbformat": 4
 },
 "nbformat": 4,
 "nbformat_minor": 2
}
