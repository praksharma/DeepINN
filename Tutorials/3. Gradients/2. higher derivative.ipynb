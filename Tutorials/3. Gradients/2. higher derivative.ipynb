{
 "cells": [
  {
   "cell_type": "markdown",
   "metadata": {},
   "source": [
    "# Gradients in DeepINN"
   ]
  },
  {
   "cell_type": "code",
   "execution_count": 6,
   "metadata": {},
   "outputs": [],
   "source": [
    "# This is only valid when the package is not installed\n",
    "import sys\n",
    "sys.path.append('../../') # two folders up\n",
    "import DeepINN as dp\n",
    "import torch"
   ]
  },
  {
   "cell_type": "code",
   "execution_count": 35,
   "metadata": {},
   "outputs": [],
   "source": [
    "def laplace(X, y):\n",
    "    \"\"\"\n",
    "    1D Laplace equation.\n",
    "    u__x = 0 \n",
    "    \"\"\"\n",
    "    dy_x = dp.constraint.Jacobian(X, y)(i=0, j=0)\n",
    "    print(dy_x.requires_grad)  # Check if requires_grad is True\n",
    "    print(dy_x.grad_fn)  # Check the gradient function associated with dy_x\n",
    "    dy_xx = dp.constraint.Jacobian(X, dy_x+0)(i=0, j=0)\n",
    "\n",
    "    return dy_xx"
   ]
  },
  {
   "cell_type": "code",
   "execution_count": 36,
   "metadata": {},
   "outputs": [],
   "source": [
    "boundary_point_labels =  [torch.tensor([[0.]],requires_grad=True), torch.tensor([[1.]])]\n",
    "boundary_point_sample = [torch.tensor([[0.]]), torch.tensor([[1.]])]"
   ]
  },
  {
   "cell_type": "code",
   "execution_count": 39,
   "metadata": {},
   "outputs": [
    {
     "data": {
      "text/plain": [
       "True"
      ]
     },
     "execution_count": 39,
     "metadata": {},
     "output_type": "execute_result"
    }
   ],
   "source": [
    "\n",
    "y = boundary_point_labels[0]**2\n",
    "y.requires_grad\n"
   ]
  },
  {
   "cell_type": "code",
   "execution_count": 40,
   "metadata": {},
   "outputs": [
    {
     "name": "stdout",
     "output_type": "stream",
     "text": [
      "True\n",
      "<IndexBackward0 object at 0x7fd01e872ad0>\n"
     ]
    },
    {
     "data": {
      "text/plain": [
       "tensor([[2.]], grad_fn=<IndexBackward0>)"
      ]
     },
     "execution_count": 40,
     "metadata": {},
     "output_type": "execute_result"
    }
   ],
   "source": [
    "laplace(boundary_point_labels[0], y)"
   ]
  },
  {
   "cell_type": "code",
   "execution_count": 10,
   "metadata": {},
   "outputs": [
    {
     "data": {
      "text/plain": [
       "(2, tensor([[0.]], requires_grad=True))"
      ]
     },
     "execution_count": 10,
     "metadata": {},
     "output_type": "execute_result"
    }
   ],
   "source": [
    "len(boundary_point_labels[0].size()), boundary_point_labels[0]"
   ]
  },
  {
   "cell_type": "code",
   "execution_count": null,
   "metadata": {},
   "outputs": [],
   "source": []
  }
 ],
 "metadata": {
  "kernelspec": {
   "display_name": ".venv",
   "language": "python",
   "name": "python3"
  },
  "language_info": {
   "codemirror_mode": {
    "name": "ipython",
    "version": 3
   },
   "file_extension": ".py",
   "mimetype": "text/x-python",
   "name": "python",
   "nbconvert_exporter": "python",
   "pygments_lexer": "ipython3",
   "version": "3.10.6"
  },
  "orig_nbformat": 4
 },
 "nbformat": 4,
 "nbformat_minor": 2
}
