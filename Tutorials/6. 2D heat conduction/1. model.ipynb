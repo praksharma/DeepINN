{
 "cells": [
  {
   "cell_type": "markdown",
   "metadata": {},
   "source": [
    "# FCNN training"
   ]
  },
  {
   "cell_type": "code",
   "execution_count": 1,
   "metadata": {},
   "outputs": [
    {
     "name": "stderr",
     "output_type": "stream",
     "text": [
      "Using default backend: PyTorch\n",
      "Using Pytorch:  2.0.1+cu117\n"
     ]
    }
   ],
   "source": [
    "# This is only valid when the package is not installed\n",
    "import sys\n",
    "sys.path.append('../../') # two folders up\n",
    "import DeepINN as dp\n",
    "import torch"
   ]
  },
  {
   "cell_type": "markdown",
   "metadata": {},
   "source": [
    "## Geometry"
   ]
  },
  {
   "cell_type": "code",
   "execution_count": 2,
   "metadata": {},
   "outputs": [],
   "source": [
    "# A simple 1D geometry\n",
    "X = dp.spaces.R2('x')\n",
    "Rect = dp.domains.Parallelogram(X, [0,0], [1,0], [0,1]) # unit square"
   ]
  },
  {
   "cell_type": "code",
   "execution_count": 3,
   "metadata": {},
   "outputs": [],
   "source": [
    "left_bc = dp.constraint.DirichletBC(geom = Rect,\n",
    "                                      function = lambda X: torch.tensor([0.0]),\n",
    "                                      sampling_strategy = \"grid\",\n",
    "                                      no_points = 10, \n",
    "                                      filter_fn = lambda x: x[:, 0] == 0.0)\n",
    "right_bc = dp.constraint.DirichletBC(geom = Rect,\n",
    "                                      function = lambda X: torch.tensor([1.0]),\n",
    "                                      sampling_strategy = \"grid\",\n",
    "                                      no_points = 10, # you can use more points. there are conditions to deal with stupid conditions. \n",
    "                                      filter_fn = lambda x: x[:, 0] == 1.0)\n",
    "\n",
    "interior_points = dp.constraint.PDE(geom = Rect,\n",
    "                                    sampling_strategy= \"LatinHypercube\",\n",
    "                                    no_points = 30)"
   ]
  },
  {
   "cell_type": "code",
   "execution_count": 4,
   "metadata": {},
   "outputs": [
    {
     "data": {
      "image/png": "[encoded data removed]",
      "text/plain": [
       "<Figure size 320x240 with 1 Axes>"
      ]
     },
     "metadata": {},
     "output_type": "display_data"
    },
    {
     "data": {
      "image/png": "[encoded data removed]",
      "text/plain": [
       "<Figure size 320x240 with 1 Axes>"
      ]
     },
     "metadata": {},
     "output_type": "display_data"
    },
    {
     "data": {
      "image/png": "[encoded data removed]",
      "text/plain": [
       "<Figure size 320x240 with 1 Axes>"
      ]
     },
     "metadata": {},
     "output_type": "display_data"
    }
   ],
   "source": [
    "dp.utils.scatter(X, interior_points.sampler_object(), dpi = 50) # collocation points\n",
    "dp.utils.scatter(X, left_bc.sampler_object(), dpi = 50)\n",
    "dp.utils.scatter(X, right_bc.sampler_object(), dpi = 50)"
   ]
  },
  {
   "cell_type": "markdown",
   "metadata": {},
   "source": [
    "## PDE"
   ]
  },
  {
   "cell_type": "code",
   "execution_count": 5,
   "metadata": {},
   "outputs": [],
   "source": [
    "def laplace(X,y):\n",
    "    \"\"\"\n",
    "    2D Laplace equation.\n",
    "    u__x + u__y = 0\n",
    "     i is always zero because output to the NN is always 1D\n",
    "    \"\"\"\n",
    "    dy_x = dp.constraint.Jacobian(X, y)(i=0, j=0)\n",
    "    dy_xx = dp.constraint.Jacobian(X, dy_x)(i = 0, j = 0)\n",
    "\n",
    "    dy_y = dp.constraint.Jacobian(X, y)(i=0, j=1)\n",
    "    dy_yy = dp.constraint.Jacobian(X, dy_y)(i = 0, j = 1)\n",
    "\n",
    "    return dy_xx + dy_yy"
   ]
  },
  {
   "cell_type": "code",
   "execution_count": 6,
   "metadata": {},
   "outputs": [],
   "source": [
    "domain = dp.domain.Generic(laplace,\n",
    "                            interior_points,\n",
    "                            [left_bc, right_bc])"
   ]
  },
  {
   "cell_type": "markdown",
   "metadata": {},
   "source": [
    "## Network"
   ]
  },
  {
   "cell_type": "code",
   "execution_count": 7,
   "metadata": {},
   "outputs": [],
   "source": [
    "activation = \"tanh\"\n",
    "initialiser = \"Xavier normal\"\n",
    "layer_size = [1] + [2] * 1 + [1]"
   ]
  },
  {
   "cell_type": "code",
   "execution_count": 8,
   "metadata": {},
   "outputs": [
    {
     "ename": "TypeError",
     "evalue": "__init__() missing 1 required positional argument: 'self'",
     "output_type": "error",
     "traceback": [
      "\u001b[0;31m---------------------------------------------------------------------------\u001b[0m",
      "\u001b[0;31mTypeError\u001b[0m                                 Traceback (most recent call last)",
      "Cell \u001b[0;32mIn[8], line 1\u001b[0m\n\u001b[0;32m----> 1\u001b[0m net \u001b[38;5;241m=\u001b[39m \u001b[43mdp\u001b[49m\u001b[38;5;241;43m.\u001b[39;49m\u001b[43mnn\u001b[49m\u001b[38;5;241;43m.\u001b[39;49m\u001b[43mFullyConnected\u001b[49m\u001b[43m(\u001b[49m\u001b[43mlayer_size\u001b[49m\u001b[43m,\u001b[49m\u001b[43m \u001b[49m\u001b[43mactivation\u001b[49m\u001b[43m,\u001b[49m\u001b[43m \u001b[49m\u001b[43minitialiser\u001b[49m\u001b[43m)\u001b[49m\n\u001b[1;32m      2\u001b[0m model \u001b[38;5;241m=\u001b[39m dp\u001b[38;5;241m.\u001b[39mModel(domain, net)\n",
      "File \u001b[0;32m~/Desktop/repos/DeepINN/Tutorials/6. 2D heat conduction/../../DeepINN/nn/FCNN.py:13\u001b[0m, in \u001b[0;36mFullyConnected.__init__\u001b[0;34m(self, layer_size, activation, initialiser)\u001b[0m\n\u001b[1;32m      8\u001b[0m \u001b[38;5;28;01mdef\u001b[39;00m \u001b[38;5;21m__init__\u001b[39m(\u001b[38;5;28mself\u001b[39m, \n\u001b[1;32m      9\u001b[0m             layer_size : \u001b[38;5;28mlist\u001b[39m,\n\u001b[1;32m     10\u001b[0m             activation : \u001b[38;5;28mstr\u001b[39m,\n\u001b[1;32m     11\u001b[0m             initialiser : \u001b[38;5;28mstr\u001b[39m,\n\u001b[1;32m     12\u001b[0m             ):\n\u001b[0;32m---> 13\u001b[0m     \u001b[43mBaseNetwork\u001b[49m\u001b[38;5;241;43m.\u001b[39;49m\u001b[38;5;21;43m__init__\u001b[39;49m\u001b[43m(\u001b[49m\u001b[43m)\u001b[49m\n\u001b[1;32m     16\u001b[0m     \u001b[38;5;66;03m# Validate the types of the attributes\u001b[39;00m\n\u001b[1;32m     17\u001b[0m     \u001b[38;5;28;01mif\u001b[39;00m \u001b[38;5;129;01mnot\u001b[39;00m \u001b[38;5;28misinstance\u001b[39m(layer_size, \u001b[38;5;28mlist\u001b[39m):\n",
      "\u001b[0;31mTypeError\u001b[0m: __init__() missing 1 required positional argument: 'self'"
     ]
    }
   ],
   "source": [
    "net = dp.nn.FullyConnected(layer_size, activation, initialiser)\n",
    "model = dp.Model(domain, net)"
   ]
  },
  {
   "cell_type": "code",
   "execution_count": null,
   "metadata": {},
   "outputs": [
    {
     "name": "stderr",
     "output_type": "stream",
     "text": [
      "Domain compiled\n",
      "Network compiled\n"
     ]
    }
   ],
   "source": [
    "optimiser = \"adam\"\n",
    "lr=0.001\n",
    "metrics=\"MSE\"\n",
    "\n",
    "model.compile(optimiser, lr, metrics, device = \"cuda\")"
   ]
  },
  {
   "cell_type": "code",
   "execution_count": null,
   "metadata": {},
   "outputs": [
    {
     "data": {
      "text/plain": [
       "(torch.optim.adam.Adam, 0.001, MSELoss())"
      ]
     },
     "execution_count": 29,
     "metadata": {},
     "output_type": "execute_result"
    }
   ],
   "source": [
    "model.optimiser_function, model.lr, model.metric"
   ]
  },
  {
   "cell_type": "code",
   "execution_count": null,
   "metadata": {},
   "outputs": [
    {
     "ename": "TypeError",
     "evalue": "max(): argument 'input' (position 1) must be Tensor, not list",
     "output_type": "error",
     "traceback": [
      "\u001b[0;31m---------------------------------------------------------------------------\u001b[0m",
      "\u001b[0;31mTypeError\u001b[0m                                 Traceback (most recent call last)",
      "Cell \u001b[0;32mIn[30], line 1\u001b[0m\n\u001b[0;32m----> 1\u001b[0m \u001b[43mmodel\u001b[49m\u001b[38;5;241;43m.\u001b[39;49m\u001b[43mtrain\u001b[49m\u001b[43m(\u001b[49m\u001b[43miterations\u001b[49m\u001b[43m \u001b[49m\u001b[38;5;241;43m=\u001b[39;49m\u001b[43m \u001b[49m\u001b[38;5;241;43m500\u001b[39;49m\u001b[43m)\u001b[49m\n",
      "File \u001b[0;32m~/Desktop/repos/DeepINN/Tutorials/6. 2D heat conduction/../../DeepINN/model.py:76\u001b[0m, in \u001b[0;36mModel.train\u001b[0;34m(self, iterations, display_every)\u001b[0m\n\u001b[1;32m     69\u001b[0m \u001b[38;5;250m\u001b[39m\u001b[38;5;124;03m\"\"\"_summary_\u001b[39;00m\n\u001b[1;32m     70\u001b[0m \n\u001b[1;32m     71\u001b[0m \u001b[38;5;124;03mArgs:\u001b[39;00m\n\u001b[1;32m     72\u001b[0m \u001b[38;5;124;03m    iterations (int): _description_. Number of iterations.\u001b[39;00m\n\u001b[1;32m     73\u001b[0m \u001b[38;5;124;03m    display_every (int, optional): _description_. Display the loss every display_every iterations. Defaults to 1.           \u001b[39;00m\n\u001b[1;32m     74\u001b[0m \u001b[38;5;124;03m\"\"\"\u001b[39;00m\n\u001b[1;32m     75\u001b[0m \u001b[38;5;28mself\u001b[39m\u001b[38;5;241m.\u001b[39minitialise_training(iterations)\n\u001b[0;32m---> 76\u001b[0m \u001b[38;5;28;43mself\u001b[39;49m\u001b[38;5;241;43m.\u001b[39;49m\u001b[43mtrainer\u001b[49m\u001b[43m(\u001b[49m\u001b[43m)\u001b[49m\n",
      "File \u001b[0;32m~/Desktop/repos/DeepINN/Tutorials/6. 2D heat conduction/../../DeepINN/utils/user_fun.py:328\u001b[0m, in \u001b[0;36mtimer.<locals>.wrapper_timer\u001b[0;34m(*args, **kwargs)\u001b[0m\n\u001b[1;32m    325\u001b[0m \u001b[38;5;129m@functools\u001b[39m\u001b[38;5;241m.\u001b[39mwraps(func)\n\u001b[1;32m    326\u001b[0m \u001b[38;5;28;01mdef\u001b[39;00m \u001b[38;5;21mwrapper_timer\u001b[39m(\u001b[38;5;241m*\u001b[39margs, \u001b[38;5;241m*\u001b[39m\u001b[38;5;241m*\u001b[39mkwargs):\n\u001b[1;32m    327\u001b[0m     start_time \u001b[38;5;241m=\u001b[39m time\u001b[38;5;241m.\u001b[39mperf_counter()\n\u001b[0;32m--> 328\u001b[0m     \u001b[43mfunc\u001b[49m\u001b[43m(\u001b[49m\u001b[38;5;241;43m*\u001b[39;49m\u001b[43margs\u001b[49m\u001b[43m,\u001b[49m\u001b[43m \u001b[49m\u001b[38;5;241;43m*\u001b[39;49m\u001b[38;5;241;43m*\u001b[39;49m\u001b[43mkwargs\u001b[49m\u001b[43m)\u001b[49m \u001b[38;5;66;03m# execute the decorated function\u001b[39;00m\n\u001b[1;32m    329\u001b[0m     end_time \u001b[38;5;241m=\u001b[39m time\u001b[38;5;241m.\u001b[39mperf_counter()\n\u001b[1;32m    330\u001b[0m     run_time \u001b[38;5;241m=\u001b[39m end_time \u001b[38;5;241m-\u001b[39m start_time\n",
      "File \u001b[0;32m~/Desktop/repos/DeepINN/Tutorials/6. 2D heat conduction/../../DeepINN/model.py:83\u001b[0m, in \u001b[0;36mModel.trainer\u001b[0;34m(self)\u001b[0m\n\u001b[1;32m     78\u001b[0m \u001b[38;5;129m@timer\u001b[39m\n\u001b[1;32m     79\u001b[0m \u001b[38;5;28;01mdef\u001b[39;00m \u001b[38;5;21mtrainer\u001b[39m(\u001b[38;5;28mself\u001b[39m):\n\u001b[1;32m     80\u001b[0m     \u001b[38;5;66;03m# implement training loop\u001b[39;00m\n\u001b[1;32m     81\u001b[0m     \u001b[38;5;28;01mwhile\u001b[39;00m \u001b[38;5;28mself\u001b[39m\u001b[38;5;241m.\u001b[39miter \u001b[38;5;241m<\u001b[39m\u001b[38;5;241m=\u001b[39m \u001b[38;5;28mself\u001b[39m\u001b[38;5;241m.\u001b[39miterations:\n\u001b[0;32m---> 83\u001b[0m         \u001b[38;5;28mself\u001b[39m\u001b[38;5;241m.\u001b[39mBC_forward \u001b[38;5;241m=\u001b[39m \u001b[38;5;28;43mself\u001b[39;49m\u001b[38;5;241;43m.\u001b[39;49m\u001b[43mnetwork\u001b[49m\u001b[38;5;241;43m.\u001b[39;49m\u001b[43mforward\u001b[49m\u001b[43m(\u001b[49m\u001b[38;5;28;43mself\u001b[39;49m\u001b[38;5;241;43m.\u001b[39;49m\u001b[43mboundary_point_sample\u001b[49m\u001b[43m)\u001b[49m\n\u001b[1;32m     84\u001b[0m         \u001b[38;5;28mself\u001b[39m\u001b[38;5;241m.\u001b[39mBC_loss \u001b[38;5;241m=\u001b[39m \u001b[38;5;28mself\u001b[39m\u001b[38;5;241m.\u001b[39mmetric(\u001b[38;5;28mself\u001b[39m\u001b[38;5;241m.\u001b[39mBC_forward, \u001b[38;5;28mself\u001b[39m\u001b[38;5;241m.\u001b[39mboundary_point_labels)\n\u001b[1;32m     86\u001b[0m         \u001b[38;5;28mself\u001b[39m\u001b[38;5;241m.\u001b[39mcollocation_forward \u001b[38;5;241m=\u001b[39m \u001b[38;5;28mself\u001b[39m\u001b[38;5;241m.\u001b[39mnetwork\u001b[38;5;241m.\u001b[39mforward(\u001b[38;5;28mself\u001b[39m\u001b[38;5;241m.\u001b[39mcollocation_point_sample)\n",
      "File \u001b[0;32m~/Desktop/repos/DeepINN/Tutorials/6. 2D heat conduction/../../DeepINN/nn/FCNN.py:51\u001b[0m, in \u001b[0;36mFullyConnected.forward\u001b[0;34m(self, input)\u001b[0m\n\u001b[1;32m     45\u001b[0m \u001b[38;5;28;01mdef\u001b[39;00m \u001b[38;5;21mforward\u001b[39m(\u001b[38;5;28mself\u001b[39m, \u001b[38;5;28minput\u001b[39m):\n\u001b[1;32m     46\u001b[0m \u001b[38;5;250m    \u001b[39m\u001b[38;5;124;03m\"\"\"\u001b[39;00m\n\u001b[1;32m     47\u001b[0m \u001b[38;5;124;03m    Implementation of forward for the Fully Connected network.\u001b[39;00m\n\u001b[1;32m     48\u001b[0m \u001b[38;5;124;03m    All we need is the inputs tensor and rest of the things are already in the class.\u001b[39;00m\n\u001b[1;32m     49\u001b[0m \u001b[38;5;124;03m    \"\"\"\u001b[39;00m\n\u001b[0;32m---> 51\u001b[0m     \u001b[38;5;28mself\u001b[39m\u001b[38;5;241m.\u001b[39mub \u001b[38;5;241m=\u001b[39m \u001b[43mtorch\u001b[49m\u001b[38;5;241;43m.\u001b[39;49m\u001b[43mmax\u001b[49m\u001b[43m(\u001b[49m\u001b[38;5;28;43minput\u001b[39;49m\u001b[43m)\u001b[49m\n\u001b[1;32m     52\u001b[0m     \u001b[38;5;28mself\u001b[39m\u001b[38;5;241m.\u001b[39mlb \u001b[38;5;241m=\u001b[39m torch\u001b[38;5;241m.\u001b[39mmin(\u001b[38;5;28minput\u001b[39m)\n\u001b[1;32m     54\u001b[0m     \u001b[38;5;66;03m# Preprocessing input : feature scaling\u001b[39;00m\n",
      "\u001b[0;31mTypeError\u001b[0m: max(): argument 'input' (position 1) must be Tensor, not list"
     ]
    }
   ],
   "source": [
    "model.train(iterations = 500)"
   ]
  },
  {
   "cell_type": "code",
   "execution_count": null,
   "metadata": {},
   "outputs": [],
   "source": [
    "# model.iter = 1\n",
    "# model.train(iterations = 2000)"
   ]
  },
  {
   "cell_type": "code",
   "execution_count": null,
   "metadata": {},
   "outputs": [
    {
     "data": {
      "text/plain": [
       "FullyConnected(\n",
       "  (activation): Tanh()\n",
       "  (linears): ModuleList(\n",
       "    (0): Linear(in_features=1, out_features=2, bias=True)\n",
       "    (1): Linear(in_features=2, out_features=1, bias=True)\n",
       "  )\n",
       ")"
      ]
     },
     "execution_count": 13,
     "metadata": {},
     "output_type": "execute_result"
    }
   ],
   "source": [
    "model.network"
   ]
  },
  {
   "cell_type": "code",
   "execution_count": null,
   "metadata": {},
   "outputs": [],
   "source": [
    "coordinates_list = dp.utils.tensor2numpy([model.collocation_point_sample, model.boundary_point_sample])\n",
    "solution_list = dp.utils.tensor2numpy([model.collocation_forward, model.BC_forward])"
   ]
  },
  {
   "cell_type": "code",
   "execution_count": null,
   "metadata": {},
   "outputs": [],
   "source": [
    "history = model.training_history"
   ]
  },
  {
   "cell_type": "code",
   "execution_count": null,
   "metadata": {},
   "outputs": [],
   "source": [
    "import matplotlib.pyplot as plt"
   ]
  },
  {
   "cell_type": "code",
   "execution_count": null,
   "metadata": {},
   "outputs": [
    {
     "data": {
      "image/png": "[encoded data removed]",
      "text/plain": [
       "<Figure size 640x480 with 1 Axes>"
      ]
     },
     "metadata": {},
     "output_type": "display_data"
    }
   ],
   "source": [
    "plt.figure(1)\n",
    "plt.scatter(coordinates_list[0], solution_list[0], label = \"collocation points\", color = \"red\")\n",
    "plt.scatter(coordinates_list[1], solution_list[1], label = \"boundary points\", color = \"blue\")\n",
    "plt.grid('minor')"
   ]
  },
  {
   "cell_type": "code",
   "execution_count": null,
   "metadata": {},
   "outputs": [
    {
     "data": {
      "text/plain": [
       "Text(0, 0.5, 'Loss')"
      ]
     },
     "execution_count": 18,
     "metadata": {},
     "output_type": "execute_result"
    },
    {
     "data": {
      "image/png": "[encoded data removed]",
      "text/plain": [
       "<Figure size 640x480 with 1 Axes>"
      ]
     },
     "metadata": {},
     "output_type": "display_data"
    }
   ],
   "source": [
    "plt.figure(2)\n",
    "plt.plot(history)\n",
    "plt.xlabel(\"Iterations\")\n",
    "plt.ylabel(\"Loss\")"
   ]
  }
 ],
 "metadata": {
  "kernelspec": {
   "display_name": ".venv",
   "language": "python",
   "name": "python3"
  },
  "language_info": {
   "codemirror_mode": {
    "name": "ipython",
    "version": 3
   },
   "file_extension": ".py",
   "mimetype": "text/x-python",
   "name": "python",
   "nbconvert_exporter": "python",
   "pygments_lexer": "ipython3",
   "version": "3.9.16"
  },
  "orig_nbformat": 4
 },
 "nbformat": 4,
 "nbformat_minor": 2
}
