{
 "cells": [
  {
   "cell_type": "markdown",
   "metadata": {},
   "source": [
    "# Gradient basics"
   ]
  },
  {
   "cell_type": "code",
   "execution_count": 1,
   "metadata": {},
   "outputs": [],
   "source": [
    "# This is only valid when the package is not installed\n",
    "import sys\n",
    "sys.path.append('../../') # two folders up"
   ]
  },
  {
   "cell_type": "code",
   "execution_count": 2,
   "metadata": {},
   "outputs": [
    {
     "name": "stderr",
     "output_type": "stream",
     "text": [
      "Using default backend: PyTorch\n",
      "Using Pytorch:  2.0.1+cu117\n"
     ]
    }
   ],
   "source": [
    "import DeepINN as dp"
   ]
  },
  {
   "cell_type": "code",
   "execution_count": 3,
   "metadata": {},
   "outputs": [],
   "source": [
    "from torch import nn\n",
    "import torch"
   ]
  },
  {
   "attachments": {},
   "cell_type": "markdown",
   "metadata": {},
   "source": [
    "# Test 1"
   ]
  },
  {
   "cell_type": "code",
   "execution_count": 4,
   "metadata": {},
   "outputs": [
    {
     "name": "stdout",
     "output_type": "stream",
     "text": [
      "x: tensor([2.], requires_grad=True)\n",
      "y: tensor([5.], grad_fn=<AddBackward0>)\n"
     ]
    }
   ],
   "source": [
    "x = torch.tensor([2.0], requires_grad = True)\n",
    "print(\"x:\", x)\n",
    "\n",
    "y = x**2 + 1\n",
    "print(\"y:\", y)"
   ]
  },
  {
   "attachments": {},
   "cell_type": "markdown",
   "metadata": {},
   "source": [
    "$$y=x^2 +1$$\n",
    "\n",
    "$$\\frac{dy}{dx} = 2x$$"
   ]
  },
  {
   "cell_type": "code",
   "execution_count": 5,
   "metadata": {},
   "outputs": [
    {
     "name": "stdout",
     "output_type": "stream",
     "text": [
      "Gradient (dy/dx): tensor([4.], grad_fn=<MulBackward0>)\n"
     ]
    }
   ],
   "source": [
    "# Calculate the gradient manually using torch.autograd.grad()\n",
    "gradient = torch.autograd.grad(y, x, create_graph=True, retain_graph=True)[0]\n",
    "print(\"Gradient (dy/dx):\", gradient)"
   ]
  },
  {
   "cell_type": "code",
   "execution_count": 6,
   "metadata": {},
   "outputs": [
    {
     "data": {
      "text/plain": [
       "tensor([2.])"
      ]
     },
     "execution_count": 6,
     "metadata": {},
     "output_type": "execute_result"
    }
   ],
   "source": [
    "torch.autograd.grad(gradient, x, retain_graph=True)[0]"
   ]
  },
  {
   "cell_type": "code",
   "execution_count": 7,
   "metadata": {},
   "outputs": [
    {
     "data": {
      "text/plain": [
       "tensor([4.], grad_fn=<MulBackward0>)"
      ]
     },
     "execution_count": 7,
     "metadata": {},
     "output_type": "execute_result"
    }
   ],
   "source": [
    "jacobian = dp.constraint.Jacobian(x, y)(0,0)\n",
    "# jacobian_matrix = jacobian(0, 1)\n",
    "jacobian"
   ]
  },
  {
   "cell_type": "code",
   "execution_count": 8,
   "metadata": {},
   "outputs": [
    {
     "data": {
      "text/plain": [
       "tensor([2.], grad_fn=<MulBackward0>)"
      ]
     },
     "execution_count": 8,
     "metadata": {},
     "output_type": "execute_result"
    }
   ],
   "source": [
    "dp.constraint.Jacobian(x, jacobian)(0,0)"
   ]
  },
  {
   "attachments": {},
   "cell_type": "markdown",
   "metadata": {},
   "source": [
    "# A note for the future.\n",
    "If we need to use the same graph to computer more gradients then we need to use retain_graph=True\n",
    "We need to investigate whether we need this."
   ]
  },
  {
   "attachments": {},
   "cell_type": "markdown",
   "metadata": {},
   "source": [
    "here we confirmed that both compute the same gradient. \n",
    "\n",
    "# 1D tensor with multiple values."
   ]
  },
  {
   "cell_type": "code",
   "execution_count": 9,
   "metadata": {},
   "outputs": [],
   "source": [
    "# Define a simple neural network for demonstration\n",
    "class Net(nn.Module):\n",
    "    def __init__(self):\n",
    "        super(Net, self).__init__()\n",
    "        self.linear = nn.Linear(2, 1) # automatic weights initialisation\n",
    "\n",
    "    def forward(self, x):\n",
    "        return self.linear(x)"
   ]
  },
  {
   "cell_type": "code",
   "execution_count": 10,
   "metadata": {},
   "outputs": [
    {
     "data": {
      "text/plain": [
       "(tensor([1., 2.], requires_grad=True), torch.Size([2]))"
      ]
     },
     "execution_count": 10,
     "metadata": {},
     "output_type": "execute_result"
    }
   ],
   "source": [
    "# Create random input tensor\n",
    "X = torch.tensor([1.0, 2.0], requires_grad=True)\n",
    "X, X.size()"
   ]
  },
  {
   "cell_type": "code",
   "execution_count": 11,
   "metadata": {},
   "outputs": [
    {
     "data": {
      "text/plain": [
       "tensor([0.8279], grad_fn=<AddBackward0>)"
      ]
     },
     "execution_count": 11,
     "metadata": {},
     "output_type": "execute_result"
    }
   ],
   "source": [
    "# Instantiate the neural network\n",
    "net = Net()\n",
    "\n",
    "# Forward pass\n",
    "y = net(X)\n",
    "y"
   ]
  },
  {
   "cell_type": "code",
   "execution_count": 12,
   "metadata": {},
   "outputs": [
    {
     "name": "stdout",
     "output_type": "stream",
     "text": [
      "Gradient (dy/dx): tensor([0.4486, 0.2921])\n"
     ]
    }
   ],
   "source": [
    "# pytorch gradient\n",
    "# Calculate the gradient manually using torch.autograd.grad()\n",
    "gradient = torch.autograd.grad(y, X, retain_graph=True)[0]\n",
    "print(\"Gradient (dy/dx):\", gradient)"
   ]
  },
  {
   "cell_type": "code",
   "execution_count": 13,
   "metadata": {},
   "outputs": [
    {
     "data": {
      "text/plain": [
       "tensor([0.4486, 0.2921], grad_fn=<SqueezeBackward1>)"
      ]
     },
     "execution_count": 13,
     "metadata": {},
     "output_type": "execute_result"
    }
   ],
   "source": [
    "jacobian = dp.constraint.Jacobian(X, y)(0,0)\n",
    "jacobian"
   ]
  },
  {
   "attachments": {},
   "cell_type": "markdown",
   "metadata": {},
   "source": [
    "Again we verified that dp and torch are giving the same results.\n",
    "\n",
    "Let us do a manual forward prop for fun."
   ]
  },
  {
   "cell_type": "code",
   "execution_count": 14,
   "metadata": {},
   "outputs": [],
   "source": [
    "# Manually compute gradient\n",
    "weights = net.linear.weight\n",
    "biases = net.linear.bias"
   ]
  },
  {
   "cell_type": "code",
   "execution_count": 15,
   "metadata": {},
   "outputs": [
    {
     "data": {
      "text/plain": [
       "(tensor([0.8279], grad_fn=<AddBackward0>),\n",
       " tensor([0.8279], grad_fn=<AddBackward0>))"
      ]
     },
     "execution_count": 15,
     "metadata": {},
     "output_type": "execute_result"
    }
   ],
   "source": [
    "output = torch.matmul(X, weights.t()) + biases\n",
    "y, output # notice both are same. ok I am stupid"
   ]
  },
  {
   "attachments": {},
   "cell_type": "markdown",
   "metadata": {},
   "source": [
    "# 2D tensor"
   ]
  },
  {
   "cell_type": "code",
   "execution_count": 16,
   "metadata": {},
   "outputs": [
    {
     "name": "stdout",
     "output_type": "stream",
     "text": [
      "X:\n",
      " tensor([[1., 2.],\n",
      "        [3., 4.]], requires_grad=True)\n"
     ]
    }
   ],
   "source": [
    "# Create a 2D input tensor\n",
    "X = torch.tensor([[1.0, 2.0], [3.0, 4.0]], requires_grad=True)\n",
    "print(\"X:\\n\", X)"
   ]
  },
  {
   "cell_type": "code",
   "execution_count": 17,
   "metadata": {},
   "outputs": [],
   "source": [
    "# Define a function that operates on the input tensor\n",
    "def func(x):\n",
    "    return torch.sin(x)"
   ]
  },
  {
   "cell_type": "code",
   "execution_count": 18,
   "metadata": {},
   "outputs": [
    {
     "name": "stdout",
     "output_type": "stream",
     "text": [
      "y:\n",
      " tensor([[ 0.8415,  0.9093],\n",
      "        [ 0.1411, -0.7568]], grad_fn=<SinBackward0>)\n"
     ]
    }
   ],
   "source": [
    "# Compute the output tensor\n",
    "y = func(X)\n",
    "print(\"y:\\n\", y)"
   ]
  },
  {
   "cell_type": "code",
   "execution_count": 19,
   "metadata": {},
   "outputs": [
    {
     "name": "stdout",
     "output_type": "stream",
     "text": [
      "Gradient (dy/dx): tensor([[ 0.5403, -0.4161],\n",
      "        [-0.9900, -0.6536]])\n"
     ]
    }
   ],
   "source": [
    "# pytorch gradient\n",
    "# Calculate the gradient manually using torch.autograd.grad()\n",
    "gradient = torch.autograd.grad(y, X, grad_outputs=torch.ones_like(y), retain_graph=True)[0]\n",
    "print(\"Gradient (dy/dx):\", gradient)"
   ]
  },
  {
   "cell_type": "code",
   "execution_count": 20,
   "metadata": {},
   "outputs": [],
   "source": [
    "# Instantiate the Jacobian module\n",
    "jacobian = dp.constraint.Jacobian(X, y)"
   ]
  },
  {
   "attachments": {},
   "cell_type": "markdown",
   "metadata": {},
   "source": [
    "says the first column denotes x-coodinates and the the second column denotes the y-coordintes."
   ]
  },
  {
   "cell_type": "code",
   "execution_count": 21,
   "metadata": {},
   "outputs": [
    {
     "data": {
      "text/plain": [
       "(tensor([[ 0.5403],\n",
       "         [-0.9900]], grad_fn=<IndexBackward0>),\n",
       " tensor([[-0.4161],\n",
       "         [-0.6536]], grad_fn=<IndexBackward0>))"
      ]
     },
     "execution_count": 21,
     "metadata": {},
     "output_type": "execute_result"
    }
   ],
   "source": [
    "# dy/dx-coordinates, dy/dy-coordinates \n",
    "jacobian(0, 0), jacobian(0, 1)"
   ]
  },
  {
   "attachments": {},
   "cell_type": "markdown",
   "metadata": {},
   "source": [
    "# Gradients with actual geometry"
   ]
  },
  {
   "cell_type": "code",
   "execution_count": 22,
   "metadata": {},
   "outputs": [],
   "source": [
    "# Let us make a simple rectangle\n",
    "X = dp.spaces.R2('x') #  2D space stencil\n",
    "R = dp.domains.Parallelogram(X, [0,0], [1,0], [0,1])"
   ]
  },
  {
   "cell_type": "code",
   "execution_count": 23,
   "metadata": {},
   "outputs": [
    {
     "data": {
      "image/png": "[encoded data removed]",
      "text/plain": [
       "<Figure size 640x480 with 1 Axes>"
      ]
     },
     "metadata": {},
     "output_type": "display_data"
    }
   ],
   "source": [
    "collocation_points = dp.samplers.RandomUniformSampler(R, n_points = 100)\n",
    "dp.utils.scatter(X, collocation_points)"
   ]
  },
  {
   "cell_type": "code",
   "execution_count": 24,
   "metadata": {},
   "outputs": [],
   "source": [
    "# sample collcocation points\n",
    "collocation_points = dp.constraint.PDE(geom = R,\n",
    "                                       sampling_strategy= \"random\",\n",
    "                                       no_points = 100)"
   ]
  },
  {
   "cell_type": "code",
   "execution_count": 25,
   "metadata": {},
   "outputs": [
    {
     "data": {
      "text/plain": [
       "torch.Size([100, 2])"
      ]
     },
     "execution_count": 25,
     "metadata": {},
     "output_type": "execute_result"
    }
   ],
   "source": [
    "collocation_points_sampled = collocation_points.sampler_object().sample_points().as_tensor\n",
    "collocation_points_sampled.size()"
   ]
  },
  {
   "cell_type": "code",
   "execution_count": 26,
   "metadata": {},
   "outputs": [
    {
     "data": {
      "text/plain": [
       "torch.Size([100, 1])"
      ]
     },
     "execution_count": 26,
     "metadata": {},
     "output_type": "execute_result"
    }
   ],
   "source": [
    "collocation_points_labels = collocation_points.sample_labels(collocation_points_sampled).unsqueeze(1)\n",
    "collocation_points_labels.size()"
   ]
  },
  {
   "cell_type": "code",
   "execution_count": 27,
   "metadata": {},
   "outputs": [],
   "source": [
    "import matplotlib.pyplot as plt"
   ]
  },
  {
   "cell_type": "code",
   "execution_count": 28,
   "metadata": {},
   "outputs": [
    {
     "data": {
      "text/plain": [
       "<matplotlib.colorbar.Colorbar at 0x7fd5895661d0>"
      ]
     },
     "execution_count": 28,
     "metadata": {},
     "output_type": "execute_result"
    },
    {
     "data": {
      "image/png": "[encoded data removed]",
      "text/plain": [
       "<Figure size 640x480 with 2 Axes>"
      ]
     },
     "metadata": {},
     "output_type": "display_data"
    }
   ],
   "source": [
    "# The variation in BCs based on the provided function : lambda X: X[:,0]**2\n",
    "plt.scatter(collocation_points_sampled[:,0], collocation_points_sampled[:,1], c = collocation_points_labels, cmap=plt.get_cmap('plasma',10))\n",
    "plt.colorbar()"
   ]
  },
  {
   "cell_type": "code",
   "execution_count": 29,
   "metadata": {},
   "outputs": [
    {
     "data": {
      "text/plain": [
       "torch.Size([100, 1])"
      ]
     },
     "execution_count": 29,
     "metadata": {},
     "output_type": "execute_result"
    }
   ],
   "source": [
    "collocation_points_sampled.requires_grad = True # enable chain rule\n",
    "\n",
    "# to differentiate a function, we need an actual function/neural network which take the collocation_points_sampled as the input and outputs the y\n",
    "y = (collocation_points_sampled[:,0] ** 2).unsqueeze(1) + collocation_points_labels\n",
    "y.size()"
   ]
  },
  {
   "cell_type": "code",
   "execution_count": 30,
   "metadata": {},
   "outputs": [
    {
     "name": "stdout",
     "output_type": "stream",
     "text": [
      "Gradient (dy/dx): tensor([[1.3032, 0.0000],\n",
      "        [1.6017, 0.0000],\n",
      "        [0.6878, 0.0000],\n",
      "        [0.9856, 0.0000],\n",
      "        [0.8083, 0.0000],\n",
      "        [0.4219, 0.0000],\n",
      "        [1.4878, 0.0000],\n",
      "        [0.0058, 0.0000],\n",
      "        [1.6782, 0.0000],\n",
      "        [0.2472, 0.0000],\n",
      "        [1.9970, 0.0000],\n",
      "        [0.8948, 0.0000],\n",
      "        [1.2018, 0.0000],\n",
      "        [0.6163, 0.0000],\n",
      "        [1.6401, 0.0000],\n",
      "        [0.4538, 0.0000],\n",
      "        [1.5548, 0.0000],\n",
      "        [1.6811, 0.0000],\n",
      "        [0.7122, 0.0000],\n",
      "        [0.9237, 0.0000],\n",
      "        [1.4484, 0.0000],\n",
      "        [0.1710, 0.0000],\n",
      "        [0.7890, 0.0000],\n",
      "        [1.0067, 0.0000],\n",
      "        [1.2150, 0.0000],\n",
      "        [1.3109, 0.0000],\n",
      "        [0.6205, 0.0000],\n",
      "        [1.7426, 0.0000],\n",
      "        [1.9651, 0.0000],\n",
      "        [0.8019, 0.0000],\n",
      "        [0.4021, 0.0000],\n",
      "        [0.6420, 0.0000],\n",
      "        [1.1347, 0.0000],\n",
      "        [0.5840, 0.0000],\n",
      "        [1.2864, 0.0000],\n",
      "        [0.9806, 0.0000],\n",
      "        [1.6390, 0.0000],\n",
      "        [1.2326, 0.0000],\n",
      "        [1.9050, 0.0000],\n",
      "        [0.6730, 0.0000],\n",
      "        [1.1728, 0.0000],\n",
      "        [1.8709, 0.0000],\n",
      "        [0.4997, 0.0000],\n",
      "        [0.4005, 0.0000],\n",
      "        [0.3979, 0.0000],\n",
      "        [1.0992, 0.0000],\n",
      "        [0.0573, 0.0000],\n",
      "        [0.4997, 0.0000],\n",
      "        [1.9303, 0.0000],\n",
      "        [0.1621, 0.0000],\n",
      "        [0.4060, 0.0000],\n",
      "        [0.9241, 0.0000],\n",
      "        [1.4678, 0.0000],\n",
      "        [0.2705, 0.0000],\n",
      "        [0.9259, 0.0000],\n",
      "        [0.3800, 0.0000],\n",
      "        [1.4557, 0.0000],\n",
      "        [0.4193, 0.0000],\n",
      "        [0.2482, 0.0000],\n",
      "        [0.7379, 0.0000],\n",
      "        [1.2010, 0.0000],\n",
      "        [0.7659, 0.0000],\n",
      "        [0.3372, 0.0000],\n",
      "        [1.6578, 0.0000],\n",
      "        [0.0139, 0.0000],\n",
      "        [0.2067, 0.0000],\n",
      "        [1.8565, 0.0000],\n",
      "        [0.7927, 0.0000],\n",
      "        [0.6998, 0.0000],\n",
      "        [1.6912, 0.0000],\n",
      "        [1.6839, 0.0000],\n",
      "        [0.3684, 0.0000],\n",
      "        [0.0693, 0.0000],\n",
      "        [0.7549, 0.0000],\n",
      "        [1.3605, 0.0000],\n",
      "        [0.5353, 0.0000],\n",
      "        [0.8377, 0.0000],\n",
      "        [1.8761, 0.0000],\n",
      "        [0.4539, 0.0000],\n",
      "        [0.9090, 0.0000],\n",
      "        [0.8007, 0.0000],\n",
      "        [0.1747, 0.0000],\n",
      "        [0.3898, 0.0000],\n",
      "        [0.0108, 0.0000],\n",
      "        [0.9667, 0.0000],\n",
      "        [1.6893, 0.0000],\n",
      "        [0.1192, 0.0000],\n",
      "        [1.3953, 0.0000],\n",
      "        [0.2921, 0.0000],\n",
      "        [1.3875, 0.0000],\n",
      "        [0.2230, 0.0000],\n",
      "        [0.6385, 0.0000],\n",
      "        [0.6745, 0.0000],\n",
      "        [0.8135, 0.0000],\n",
      "        [0.2709, 0.0000],\n",
      "        [0.0981, 0.0000],\n",
      "        [0.9205, 0.0000],\n",
      "        [1.3747, 0.0000],\n",
      "        [0.0548, 0.0000],\n",
      "        [0.3614, 0.0000]])\n"
     ]
    }
   ],
   "source": [
    "# pytorch gradient\n",
    "# Calculate the gradient manually using torch.autograd.grad()\n",
    "gradient = torch.autograd.grad(y, collocation_points_sampled, grad_outputs=torch.ones_like(y), retain_graph=True)[0]\n",
    "print(\"Gradient (dy/dx):\", gradient)"
   ]
  },
  {
   "cell_type": "code",
   "execution_count": 31,
   "metadata": {},
   "outputs": [],
   "source": [
    "# Instantiate the Jacobian module\n",
    "jacobian = dp.constraint.Jacobian(collocation_points_sampled, y)"
   ]
  },
  {
   "cell_type": "code",
   "execution_count": 32,
   "metadata": {},
   "outputs": [
    {
     "data": {
      "text/plain": [
       "tensor([[1.3032],\n",
       "        [1.6017],\n",
       "        [0.6878],\n",
       "        [0.9856],\n",
       "        [0.8083],\n",
       "        [0.4219],\n",
       "        [1.4878],\n",
       "        [0.0058],\n",
       "        [1.6782],\n",
       "        [0.2472],\n",
       "        [1.9970],\n",
       "        [0.8948],\n",
       "        [1.2018],\n",
       "        [0.6163],\n",
       "        [1.6401],\n",
       "        [0.4538],\n",
       "        [1.5548],\n",
       "        [1.6811],\n",
       "        [0.7122],\n",
       "        [0.9237],\n",
       "        [1.4484],\n",
       "        [0.1710],\n",
       "        [0.7890],\n",
       "        [1.0067],\n",
       "        [1.2150],\n",
       "        [1.3109],\n",
       "        [0.6205],\n",
       "        [1.7426],\n",
       "        [1.9651],\n",
       "        [0.8019],\n",
       "        [0.4021],\n",
       "        [0.6420],\n",
       "        [1.1347],\n",
       "        [0.5840],\n",
       "        [1.2864],\n",
       "        [0.9806],\n",
       "        [1.6390],\n",
       "        [1.2326],\n",
       "        [1.9050],\n",
       "        [0.6730],\n",
       "        [1.1728],\n",
       "        [1.8709],\n",
       "        [0.4997],\n",
       "        [0.4005],\n",
       "        [0.3979],\n",
       "        [1.0992],\n",
       "        [0.0573],\n",
       "        [0.4997],\n",
       "        [1.9303],\n",
       "        [0.1621],\n",
       "        [0.4060],\n",
       "        [0.9241],\n",
       "        [1.4678],\n",
       "        [0.2705],\n",
       "        [0.9259],\n",
       "        [0.3800],\n",
       "        [1.4557],\n",
       "        [0.4193],\n",
       "        [0.2482],\n",
       "        [0.7379],\n",
       "        [1.2010],\n",
       "        [0.7659],\n",
       "        [0.3372],\n",
       "        [1.6578],\n",
       "        [0.0139],\n",
       "        [0.2067],\n",
       "        [1.8565],\n",
       "        [0.7927],\n",
       "        [0.6998],\n",
       "        [1.6912],\n",
       "        [1.6839],\n",
       "        [0.3684],\n",
       "        [0.0693],\n",
       "        [0.7549],\n",
       "        [1.3605],\n",
       "        [0.5353],\n",
       "        [0.8377],\n",
       "        [1.8761],\n",
       "        [0.4539],\n",
       "        [0.9090],\n",
       "        [0.8007],\n",
       "        [0.1747],\n",
       "        [0.3898],\n",
       "        [0.0108],\n",
       "        [0.9667],\n",
       "        [1.6893],\n",
       "        [0.1192],\n",
       "        [1.3953],\n",
       "        [0.2921],\n",
       "        [1.3875],\n",
       "        [0.2230],\n",
       "        [0.6385],\n",
       "        [0.6745],\n",
       "        [0.8135],\n",
       "        [0.2709],\n",
       "        [0.0981],\n",
       "        [0.9205],\n",
       "        [1.3747],\n",
       "        [0.0548],\n",
       "        [0.3614]], grad_fn=<IndexBackward0>)"
      ]
     },
     "execution_count": 32,
     "metadata": {},
     "output_type": "execute_result"
    }
   ],
   "source": [
    "# dy/dx-coordinates, \n",
    "jacobian(i = 0, j = 0)"
   ]
  },
  {
   "cell_type": "code",
   "execution_count": 33,
   "metadata": {},
   "outputs": [
    {
     "data": {
      "text/plain": [
       "tensor([[0.],\n",
       "        [0.],\n",
       "        [0.],\n",
       "        [0.],\n",
       "        [0.],\n",
       "        [0.],\n",
       "        [0.],\n",
       "        [0.],\n",
       "        [0.],\n",
       "        [0.],\n",
       "        [0.],\n",
       "        [0.],\n",
       "        [0.],\n",
       "        [0.],\n",
       "        [0.],\n",
       "        [0.],\n",
       "        [0.],\n",
       "        [0.],\n",
       "        [0.],\n",
       "        [0.],\n",
       "        [0.],\n",
       "        [0.],\n",
       "        [0.],\n",
       "        [0.],\n",
       "        [0.],\n",
       "        [0.],\n",
       "        [0.],\n",
       "        [0.],\n",
       "        [0.],\n",
       "        [0.],\n",
       "        [0.],\n",
       "        [0.],\n",
       "        [0.],\n",
       "        [0.],\n",
       "        [0.],\n",
       "        [0.],\n",
       "        [0.],\n",
       "        [0.],\n",
       "        [0.],\n",
       "        [0.],\n",
       "        [0.],\n",
       "        [0.],\n",
       "        [0.],\n",
       "        [0.],\n",
       "        [0.],\n",
       "        [0.],\n",
       "        [0.],\n",
       "        [0.],\n",
       "        [0.],\n",
       "        [0.],\n",
       "        [0.],\n",
       "        [0.],\n",
       "        [0.],\n",
       "        [0.],\n",
       "        [0.],\n",
       "        [0.],\n",
       "        [0.],\n",
       "        [0.],\n",
       "        [0.],\n",
       "        [0.],\n",
       "        [0.],\n",
       "        [0.],\n",
       "        [0.],\n",
       "        [0.],\n",
       "        [0.],\n",
       "        [0.],\n",
       "        [0.],\n",
       "        [0.],\n",
       "        [0.],\n",
       "        [0.],\n",
       "        [0.],\n",
       "        [0.],\n",
       "        [0.],\n",
       "        [0.],\n",
       "        [0.],\n",
       "        [0.],\n",
       "        [0.],\n",
       "        [0.],\n",
       "        [0.],\n",
       "        [0.],\n",
       "        [0.],\n",
       "        [0.],\n",
       "        [0.],\n",
       "        [0.],\n",
       "        [0.],\n",
       "        [0.],\n",
       "        [0.],\n",
       "        [0.],\n",
       "        [0.],\n",
       "        [0.],\n",
       "        [0.],\n",
       "        [0.],\n",
       "        [0.],\n",
       "        [0.],\n",
       "        [0.],\n",
       "        [0.],\n",
       "        [0.],\n",
       "        [0.],\n",
       "        [0.],\n",
       "        [0.]], grad_fn=<IndexBackward0>)"
      ]
     },
     "execution_count": 33,
     "metadata": {},
     "output_type": "execute_result"
    }
   ],
   "source": [
    "#dy/dy-coordinates \n",
    "jacobian(i = 0, j = 1)"
   ]
  },
  {
   "cell_type": "code",
   "execution_count": 38,
   "metadata": {},
   "outputs": [],
   "source": [
    "hessian = dp.constraint.Jacobian(collocation_points_sampled, jacobian(i = 0, j = 1)\n",
    ")"
   ]
  },
  {
   "cell_type": "code",
   "execution_count": 39,
   "metadata": {},
   "outputs": [
    {
     "data": {
      "text/plain": [
       "tensor([[0.],\n",
       "        [0.],\n",
       "        [0.],\n",
       "        [0.],\n",
       "        [0.],\n",
       "        [0.],\n",
       "        [0.],\n",
       "        [0.],\n",
       "        [0.],\n",
       "        [0.],\n",
       "        [0.],\n",
       "        [0.],\n",
       "        [0.],\n",
       "        [0.],\n",
       "        [0.],\n",
       "        [0.],\n",
       "        [0.],\n",
       "        [0.],\n",
       "        [0.],\n",
       "        [0.],\n",
       "        [0.],\n",
       "        [0.],\n",
       "        [0.],\n",
       "        [0.],\n",
       "        [0.],\n",
       "        [0.],\n",
       "        [0.],\n",
       "        [0.],\n",
       "        [0.],\n",
       "        [0.],\n",
       "        [0.],\n",
       "        [0.],\n",
       "        [0.],\n",
       "        [0.],\n",
       "        [0.],\n",
       "        [0.],\n",
       "        [0.],\n",
       "        [0.],\n",
       "        [0.],\n",
       "        [0.],\n",
       "        [0.],\n",
       "        [0.],\n",
       "        [0.],\n",
       "        [0.],\n",
       "        [0.],\n",
       "        [0.],\n",
       "        [0.],\n",
       "        [0.],\n",
       "        [0.],\n",
       "        [0.],\n",
       "        [0.],\n",
       "        [0.],\n",
       "        [0.],\n",
       "        [0.],\n",
       "        [0.],\n",
       "        [0.],\n",
       "        [0.],\n",
       "        [0.],\n",
       "        [0.],\n",
       "        [0.],\n",
       "        [0.],\n",
       "        [0.],\n",
       "        [0.],\n",
       "        [0.],\n",
       "        [0.],\n",
       "        [0.],\n",
       "        [0.],\n",
       "        [0.],\n",
       "        [0.],\n",
       "        [0.],\n",
       "        [0.],\n",
       "        [0.],\n",
       "        [0.],\n",
       "        [0.],\n",
       "        [0.],\n",
       "        [0.],\n",
       "        [0.],\n",
       "        [0.],\n",
       "        [0.],\n",
       "        [0.],\n",
       "        [0.],\n",
       "        [0.],\n",
       "        [0.],\n",
       "        [0.],\n",
       "        [0.],\n",
       "        [0.],\n",
       "        [0.],\n",
       "        [0.],\n",
       "        [0.],\n",
       "        [0.],\n",
       "        [0.],\n",
       "        [0.],\n",
       "        [0.],\n",
       "        [0.],\n",
       "        [0.],\n",
       "        [0.],\n",
       "        [0.],\n",
       "        [0.],\n",
       "        [0.],\n",
       "        [0.]], grad_fn=<IndexBackward0>)"
      ]
     },
     "execution_count": 39,
     "metadata": {},
     "output_type": "execute_result"
    }
   ],
   "source": [
    "hessian(i = 0, j = 0)"
   ]
  },
  {
   "cell_type": "code",
   "execution_count": 43,
   "metadata": {},
   "outputs": [
    {
     "data": {
      "text/plain": [
       "tensor([[0.],\n",
       "        [0.],\n",
       "        [0.],\n",
       "        [0.],\n",
       "        [0.],\n",
       "        [0.],\n",
       "        [0.],\n",
       "        [0.],\n",
       "        [0.],\n",
       "        [0.],\n",
       "        [0.],\n",
       "        [0.],\n",
       "        [0.],\n",
       "        [0.],\n",
       "        [0.],\n",
       "        [0.],\n",
       "        [0.],\n",
       "        [0.],\n",
       "        [0.],\n",
       "        [0.],\n",
       "        [0.],\n",
       "        [0.],\n",
       "        [0.],\n",
       "        [0.],\n",
       "        [0.],\n",
       "        [0.],\n",
       "        [0.],\n",
       "        [0.],\n",
       "        [0.],\n",
       "        [0.],\n",
       "        [0.],\n",
       "        [0.],\n",
       "        [0.],\n",
       "        [0.],\n",
       "        [0.],\n",
       "        [0.],\n",
       "        [0.],\n",
       "        [0.],\n",
       "        [0.],\n",
       "        [0.],\n",
       "        [0.],\n",
       "        [0.],\n",
       "        [0.],\n",
       "        [0.],\n",
       "        [0.],\n",
       "        [0.],\n",
       "        [0.],\n",
       "        [0.],\n",
       "        [0.],\n",
       "        [0.],\n",
       "        [0.],\n",
       "        [0.],\n",
       "        [0.],\n",
       "        [0.],\n",
       "        [0.],\n",
       "        [0.],\n",
       "        [0.],\n",
       "        [0.],\n",
       "        [0.],\n",
       "        [0.],\n",
       "        [0.],\n",
       "        [0.],\n",
       "        [0.],\n",
       "        [0.],\n",
       "        [0.],\n",
       "        [0.],\n",
       "        [0.],\n",
       "        [0.],\n",
       "        [0.],\n",
       "        [0.],\n",
       "        [0.],\n",
       "        [0.],\n",
       "        [0.],\n",
       "        [0.],\n",
       "        [0.],\n",
       "        [0.],\n",
       "        [0.],\n",
       "        [0.],\n",
       "        [0.],\n",
       "        [0.],\n",
       "        [0.],\n",
       "        [0.],\n",
       "        [0.],\n",
       "        [0.],\n",
       "        [0.],\n",
       "        [0.],\n",
       "        [0.],\n",
       "        [0.],\n",
       "        [0.],\n",
       "        [0.],\n",
       "        [0.],\n",
       "        [0.],\n",
       "        [0.],\n",
       "        [0.],\n",
       "        [0.],\n",
       "        [0.],\n",
       "        [0.],\n",
       "        [0.],\n",
       "        [0.],\n",
       "        [0.]], grad_fn=<IndexBackward0>)"
      ]
     },
     "execution_count": 43,
     "metadata": {},
     "output_type": "execute_result"
    }
   ],
   "source": [
    "hessian(i = 0, j = 1)"
   ]
  }
 ],
 "metadata": {
  "kernelspec": {
   "display_name": ".venv",
   "language": "python",
   "name": "python3"
  },
  "language_info": {
   "codemirror_mode": {
    "name": "ipython",
    "version": 3
   },
   "file_extension": ".py",
   "mimetype": "text/x-python",
   "name": "python",
   "nbconvert_exporter": "python",
   "pygments_lexer": "ipython3",
   "version": "3.10.6"
  },
  "orig_nbformat": 4
 },
 "nbformat": 4,
 "nbformat_minor": 2
}
