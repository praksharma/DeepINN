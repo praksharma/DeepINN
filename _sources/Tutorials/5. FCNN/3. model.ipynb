{
 "cells": [
  {
   "cell_type": "markdown",
   "metadata": {},
   "source": [
    "# FCNN training"
   ]
  },
  {
   "cell_type": "code",
   "execution_count": 1,
   "metadata": {},
   "outputs": [
    {
     "name": "stderr",
     "output_type": "stream",
     "text": [
      "Using default backend: PyTorch\n",
      "Using Pytorch:  2.0.1+cu117\n"
     ]
    }
   ],
   "source": [
    "# This is only valid when the package is not installed\n",
    "import sys\n",
    "sys.path.append('../../') # two folders up\n",
    "import DeepINN as dp\n",
    "import torch"
   ]
  },
  {
   "cell_type": "markdown",
   "metadata": {},
   "source": [
    "## Geometry"
   ]
  },
  {
   "cell_type": "code",
   "execution_count": 2,
   "metadata": {},
   "outputs": [],
   "source": [
    "# A simple 1D geometry\n",
    "X = dp.spaces.R1('x')\n",
    "Line = dp.domains.Interval(X, 0, 1)"
   ]
  },
  {
   "cell_type": "code",
   "execution_count": 3,
   "metadata": {},
   "outputs": [],
   "source": [
    "left_bc = dp.constraint.DirichletBC(geom = Line,\n",
    "                                      function = lambda X: torch.tensor([0.0]),\n",
    "                                      sampling_strategy = \"grid\",\n",
    "                                      no_points = 1, # you can use more points. there are conditions to deal with stupid conditions. \n",
    "                                      filter_fn = lambda x: x[:] == 0.0)\n",
    "right_bc = dp.constraint.DirichletBC(geom = Line,\n",
    "                                      function = lambda X: torch.tensor([1.0]),\n",
    "                                      sampling_strategy = \"grid\",\n",
    "                                      no_points = 1, # you can use more points. there are conditions to deal with stupid conditions. \n",
    "                                      filter_fn = lambda x: x[:] == 1.0)\n",
    "interior_points = dp.constraint.PDE(geom = Line,\n",
    "                                    sampling_strategy= \"grid\",\n",
    "                                    no_points = 20)"
   ]
  },
  {
   "cell_type": "code",
   "execution_count": 4,
   "metadata": {},
   "outputs": [],
   "source": [
    "# dp.utils.scatter(X, interior_points.sampler_object(), dpi = 50)\n",
    "# dp.utils.scatter(X, left_bc.sampler_object(), dpi = 50)\n",
    "# dp.utils.scatter(X, right_bc.sampler_object(), dpi = 50)"
   ]
  },
  {
   "cell_type": "markdown",
   "metadata": {},
   "source": [
    "## PDE"
   ]
  },
  {
   "cell_type": "code",
   "execution_count": 5,
   "metadata": {},
   "outputs": [],
   "source": [
    "def laplace(X,y):\n",
    "    \"\"\"\n",
    "    1D Laplace equation.\n",
    "    u__x = 0 \n",
    "    \"\"\"\n",
    "    dy_x = dp.constraint.Jacobian(X, y)(i=0, j=0)\n",
    "    dy_xx = dp.constraint.Jacobian(X, dy_x)(i = 0, j = 0)\n",
    "\n",
    "    return dy_xx"
   ]
  },
  {
   "cell_type": "code",
   "execution_count": 6,
   "metadata": {},
   "outputs": [],
   "source": [
    "domain = dp.domain.Generic(laplace,\n",
    "                            interior_points,\n",
    "                            [left_bc, right_bc])"
   ]
  },
  {
   "cell_type": "markdown",
   "metadata": {},
   "source": [
    "## Network"
   ]
  },
  {
   "cell_type": "code",
   "execution_count": 7,
   "metadata": {},
   "outputs": [],
   "source": [
    "activation = \"tanh\"\n",
    "initialiser = \"Xavier normal\"\n",
    "layer_size = [1] + [2] * 1 + [1]"
   ]
  },
  {
   "cell_type": "code",
   "execution_count": 8,
   "metadata": {},
   "outputs": [],
   "source": [
    "net = dp.nn.FullyConnected(layer_size, activation, initialiser)\n",
    "model = dp.Model(domain, net)"
   ]
  },
  {
   "cell_type": "code",
   "execution_count": 9,
   "metadata": {},
   "outputs": [
    {
     "name": "stderr",
     "output_type": "stream",
     "text": [
      "/home/hell/Desktop/repos/DeepINN/Tutorials/5. FCNN/../../DeepINN/geometry/samplers/grid_samplers.py:78: UserWarning: First iteration did not find any valid grid points, for\n",
      "                             the given filter.\n",
      "                             Will try again with n = 10 * self.n_points. Or\n",
      "                             else use only random points!\n",
      "  warnings.warn(\"\"\"First iteration did not find any valid grid points, for\n",
      "Domain compiled\n",
      "Network compiled\n"
     ]
    }
   ],
   "source": [
    "optimiser = \"adam\"\n",
    "lr=0.001\n",
    "metrics=\"MSE\"\n",
    "\n",
    "model.compile(optimiser, lr, metrics, device = \"cuda\")"
   ]
  },
  {
   "cell_type": "code",
   "execution_count": 10,
   "metadata": {},
   "outputs": [
    {
     "data": {
      "text/plain": [
       "(torch.optim.adam.Adam, 0.001, MSELoss())"
      ]
     },
     "execution_count": 10,
     "metadata": {},
     "output_type": "execute_result"
    }
   ],
   "source": [
    "model.optimiser_function, model.lr, model.metric"
   ]
  },
  {
   "cell_type": "code",
   "execution_count": 11,
   "metadata": {},
   "outputs": [
    {
     "name": "stdout",
     "output_type": "stream",
     "text": [
      "Iteration: 1 \t BC Loss: 1.1904\t PDE Loss: 0.0000 \t Loss: 1.1904\n",
      "Iteration: 51 \t BC Loss: 0.8801\t PDE Loss: 0.0000 \t Loss: 0.8801\n",
      "Iteration: 101 \t BC Loss: 0.6463\t PDE Loss: 0.0000 \t Loss: 0.6463\n",
      "Iteration: 151 \t BC Loss: 0.4837\t PDE Loss: 0.0000 \t Loss: 0.4837\n",
      "Iteration: 201 \t BC Loss: 0.3789\t PDE Loss: 0.0000 \t Loss: 0.3789\n",
      "Iteration: 251 \t BC Loss: 0.3130\t PDE Loss: 0.0000 \t Loss: 0.3130\n",
      "Iteration: 301 \t BC Loss: 0.2686\t PDE Loss: 0.0000 \t Loss: 0.2686\n",
      "Iteration: 351 \t BC Loss: 0.2344\t PDE Loss: 0.0000 \t Loss: 0.2344\n",
      "Iteration: 401 \t BC Loss: 0.2047\t PDE Loss: 0.0000 \t Loss: 0.2047\n",
      "Iteration: 451 \t BC Loss: 0.1773\t PDE Loss: 0.0000 \t Loss: 0.1773\n",
      "Iteration: 501 \t BC Loss: 0.1516\t PDE Loss: 0.0000 \t Loss: 0.1516\n",
      "Training finished\n",
      "Time taken: 'trainer' in 3.2072 secs\n"
     ]
    }
   ],
   "source": [
    "model.train(iterations = 500)"
   ]
  },
  {
   "cell_type": "code",
   "execution_count": 12,
   "metadata": {},
   "outputs": [],
   "source": [
    "# model.iter = 1\n",
    "# model.train(iterations = 2000)"
   ]
  },
  {
   "cell_type": "code",
   "execution_count": 13,
   "metadata": {},
   "outputs": [
    {
     "data": {
      "text/plain": [
       "FullyConnected(\n",
       "  (activation): Tanh()\n",
       "  (linears): ModuleList(\n",
       "    (0): Linear(in_features=1, out_features=2, bias=True)\n",
       "    (1): Linear(in_features=2, out_features=1, bias=True)\n",
       "  )\n",
       ")"
      ]
     },
     "execution_count": 13,
     "metadata": {},
     "output_type": "execute_result"
    }
   ],
   "source": [
    "model.network"
   ]
  },
  {
   "cell_type": "code",
   "execution_count": 14,
   "metadata": {},
   "outputs": [],
   "source": [
    "coordinates_list = dp.utils.tensor2numpy([model.collocation_point_sample, model.boundary_point_sample])\n",
    "solution_list = dp.utils.tensor2numpy([model.collocation_forward, model.BC_forward])"
   ]
  },
  {
   "cell_type": "code",
   "execution_count": 15,
   "metadata": {},
   "outputs": [],
   "source": [
    "history = model.training_history"
   ]
  },
  {
   "cell_type": "code",
   "execution_count": 16,
   "metadata": {},
   "outputs": [],
   "source": [
    "import matplotlib.pyplot as plt"
   ]
  },
  {
   "cell_type": "code",
   "execution_count": 17,
   "metadata": {},
   "outputs": [
    {
     "data": {
      "image/png": "[encoded data removed]",
      "text/plain": [
       "<Figure size 640x480 with 1 Axes>"
      ]
     },
     "metadata": {},
     "output_type": "display_data"
    }
   ],
   "source": [
    "plt.figure(1)\n",
    "plt.scatter(coordinates_list[0], solution_list[0], label = \"collocation points\", color = \"red\")\n",
    "plt.scatter(coordinates_list[1], solution_list[1], label = \"boundary points\", color = \"blue\")\n",
    "plt.grid('minor')"
   ]
  },
  {
   "cell_type": "code",
   "execution_count": 18,
   "metadata": {},
   "outputs": [
    {
     "data": {
      "text/plain": [
       "Text(0, 0.5, 'Loss')"
      ]
     },
     "execution_count": 18,
     "metadata": {},
     "output_type": "execute_result"
    },
    {
     "data": {
      "image/png": "[encoded data removed]",
      "text/plain": [
       "<Figure size 640x480 with 1 Axes>"
      ]
     },
     "metadata": {},
     "output_type": "display_data"
    }
   ],
   "source": [
    "plt.figure(2)\n",
    "plt.plot(history)\n",
    "plt.xlabel(\"Iterations\")\n",
    "plt.ylabel(\"Loss\")"
   ]
  }
 ],
 "metadata": {
  "kernelspec": {
   "display_name": ".venv",
   "language": "python",
   "name": "python3"
  },
  "language_info": {
   "codemirror_mode": {
    "name": "ipython",
    "version": 3
   },
   "file_extension": ".py",
   "mimetype": "text/x-python",
   "name": "python",
   "nbconvert_exporter": "python",
   "pygments_lexer": "ipython3",
   "version": "3.9.16"
  },
  "orig_nbformat": 4
 },
 "nbformat": 4,
 "nbformat_minor": 2
}
