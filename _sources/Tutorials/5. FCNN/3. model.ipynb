{
 "cells": [
  {
   "cell_type": "markdown",
   "metadata": {},
   "source": [
    "# FCNN training"
   ]
  },
  {
   "cell_type": "code",
   "execution_count": 1,
   "metadata": {},
   "outputs": [
    {
     "name": "stderr",
     "output_type": "stream",
     "text": [
      "Using default backend: PyTorch\n",
      "Using Pytorch:  2.0.1+cu117\n"
     ]
    }
   ],
   "source": [
    "# This is only valid when the package is not installed\n",
    "import sys\n",
    "sys.path.append('../../') # two folders up\n",
    "import DeepINN as dp\n",
    "import torch"
   ]
  },
  {
   "cell_type": "markdown",
   "metadata": {},
   "source": [
    "## Geometry"
   ]
  },
  {
   "cell_type": "code",
   "execution_count": 2,
   "metadata": {},
   "outputs": [],
   "source": [
    "# A simple 1D geometry\n",
    "X = dp.spaces.R1('x')\n",
    "Line = dp.domains.Interval(X, 0, 1)"
   ]
  },
  {
   "cell_type": "code",
   "execution_count": 3,
   "metadata": {},
   "outputs": [],
   "source": [
    "left_bc = dp.constraint.DirichletBC(geom = Line,\n",
    "                                      function = lambda X: torch.tensor([0.0]),\n",
    "                                      sampling_strategy = \"grid\",\n",
    "                                      no_points = 1, # you can use more points. there are conditions to deal with stupid conditions. \n",
    "                                      filter_fn = lambda x: x[:] == 0.0)\n",
    "right_bc = dp.constraint.DirichletBC(geom = Line,\n",
    "                                      function = lambda X: torch.tensor([1.0]),\n",
    "                                      sampling_strategy = \"grid\",\n",
    "                                      no_points = 1, # you can use more points. there are conditions to deal with stupid conditions. \n",
    "                                      filter_fn = lambda x: x[:] == 1.0)\n",
    "interior_points = dp.constraint.PDE(geom = Line,\n",
    "                                    sampling_strategy= \"grid\",\n",
    "                                    no_points = 20)"
   ]
  },
  {
   "cell_type": "code",
   "execution_count": 4,
   "metadata": {},
   "outputs": [],
   "source": [
    "# dp.utils.scatter(X, interior_points.sampler_object(), dpi = 50)\n",
    "# dp.utils.scatter(X, left_bc.sampler_object(), dpi = 50)\n",
    "# dp.utils.scatter(X, right_bc.sampler_object(), dpi = 50)"
   ]
  },
  {
   "cell_type": "markdown",
   "metadata": {},
   "source": [
    "## PDE"
   ]
  },
  {
   "cell_type": "code",
   "execution_count": 5,
   "metadata": {},
   "outputs": [],
   "source": [
    "def laplace(X,y):\n",
    "    \"\"\"\n",
    "    1D Laplace equation.\n",
    "    u__x = 0 \n",
    "    \"\"\"\n",
    "    dy_x = dp.constraint.Jacobian(X, y)\n",
    "    dy_xx = dp.constraint.Jacobian(X, y)(i = 0, j = 0)\n",
    "\n",
    "    return dy_xx"
   ]
  },
  {
   "cell_type": "code",
   "execution_count": 6,
   "metadata": {},
   "outputs": [],
   "source": [
    "domain = dp.domain.Generic(laplace,\n",
    "                            interior_points,\n",
    "                            [left_bc, right_bc])"
   ]
  },
  {
   "cell_type": "markdown",
   "metadata": {},
   "source": [
    "## Network"
   ]
  },
  {
   "cell_type": "code",
   "execution_count": 7,
   "metadata": {},
   "outputs": [],
   "source": [
    "activation = \"tanh\"\n",
    "initialiser = \"Xavier normal\"\n",
    "layer_size = [1] + [5] * 1 + [1]"
   ]
  },
  {
   "cell_type": "code",
   "execution_count": 8,
   "metadata": {},
   "outputs": [],
   "source": [
    "net = dp.nn.FullyConnected(layer_size, activation, initialiser)\n",
    "model = dp.Model(domain, net)"
   ]
  },
  {
   "cell_type": "code",
   "execution_count": 9,
   "metadata": {},
   "outputs": [
    {
     "name": "stderr",
     "output_type": "stream",
     "text": [
      "/home/hell/Desktop/repos/DeepINN/Tutorials/5. FCNN/../../DeepINN/geometry/samplers/grid_samplers.py:78: UserWarning: First iteration did not find any valid grid points, for\n",
      "                             the given filter.\n",
      "                             Will try again with n = 10 * self.n_points. Or\n",
      "                             else use only random points!\n",
      "  warnings.warn(\"\"\"First iteration did not find any valid grid points, for\n",
      "Domain compiled\n",
      "Network compiled\n"
     ]
    }
   ],
   "source": [
    "optimiser = \"adam\"\n",
    "lr=0.001\n",
    "metrics=\"MSE\"\n",
    "\n",
    "model.compile(optimiser, lr, metrics, device = \"cuda\")"
   ]
  },
  {
   "cell_type": "code",
   "execution_count": 10,
   "metadata": {},
   "outputs": [
    {
     "data": {
      "text/plain": [
       "(torch.optim.adam.Adam, 0.001, MSELoss())"
      ]
     },
     "execution_count": 10,
     "metadata": {},
     "output_type": "execute_result"
    }
   ],
   "source": [
    "model.optimiser_function, model.lr, model.metric"
   ]
  },
  {
   "cell_type": "code",
   "execution_count": 11,
   "metadata": {},
   "outputs": [
    {
     "name": "stdout",
     "output_type": "stream",
     "text": [
      "Iteration: 1 \t BC Loss: 2.1174\t PDE Loss: 12.3646 \t Loss: 14.4820\n",
      "Iteration: 11 \t BC Loss: 1.9977\t PDE Loss: 11.2331 \t Loss: 13.2308\n",
      "Iteration: 21 \t BC Loss: 1.8826\t PDE Loss: 10.1766 \t Loss: 12.0593\n",
      "Iteration: 31 \t BC Loss: 1.7726\t PDE Loss: 9.2003 \t Loss: 10.9729\n",
      "Iteration: 41 \t BC Loss: 1.6678\t PDE Loss: 8.3045 \t Loss: 9.9723\n",
      "Iteration: 51 \t BC Loss: 1.5684\t PDE Loss: 7.4863 \t Loss: 9.0548\n",
      "Iteration: 61 \t BC Loss: 1.4745\t PDE Loss: 6.7411 \t Loss: 8.2156\n",
      "Iteration: 71 \t BC Loss: 1.3859\t PDE Loss: 6.0632 \t Loss: 7.4491\n",
      "Iteration: 81 \t BC Loss: 1.3025\t PDE Loss: 5.4470 \t Loss: 6.7495\n",
      "Iteration: 91 \t BC Loss: 1.2241\t PDE Loss: 4.8870 \t Loss: 6.1111\n",
      "Iteration: 101 \t BC Loss: 1.1505\t PDE Loss: 4.3783 \t Loss: 5.5287\n",
      "Training finished\n"
     ]
    }
   ],
   "source": [
    "model.train(iterations = 100)"
   ]
  },
  {
   "cell_type": "code",
   "execution_count": 12,
   "metadata": {},
   "outputs": [],
   "source": [
    "# model.iter = 1\n",
    "# model.train(iterations = 2000)"
   ]
  }
 ],
 "metadata": {
  "kernelspec": {
   "display_name": ".venv",
   "language": "python",
   "name": "python3"
  },
  "language_info": {
   "codemirror_mode": {
    "name": "ipython",
    "version": 3
   },
   "file_extension": ".py",
   "mimetype": "text/x-python",
   "name": "python",
   "nbconvert_exporter": "python",
   "pygments_lexer": "ipython3",
   "version": "3.8.10"
  },
  "orig_nbformat": 4
 },
 "nbformat": 4,
 "nbformat_minor": 2
}
