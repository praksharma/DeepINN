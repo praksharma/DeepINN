{
 "cells": [
  {
   "cell_type": "code",
   "execution_count": 2,
   "metadata": {},
   "outputs": [],
   "source": [
    "# This is only valid when the package is not installed\n",
    "import sys\n",
    "sys.path.append('../../') # two folders up"
   ]
  },
  {
   "cell_type": "code",
   "execution_count": 8,
   "metadata": {},
   "outputs": [
    {
     "name": "stdout",
     "output_type": "stream",
     "text": [
      "MPLBACKEND=module://matplotlib_inline.backend_inline\n",
      "HOSTNAME=925e79cc0c33\n",
      "LD_LIBRARY_PATH=/usr/local/nvidia/lib:/usr/local/nvidia/lib64\n",
      "HOME=/root\n",
      "PAGER=cat\n",
      "LC_CTYPE=C.UTF-8\n",
      "FORCE_COLOR=1\n",
      "NVIDIA_DRIVER_CAPABILITIES=compute,utility\n",
      "TERM=xterm-color\n",
      "PATH=/opt/conda/bin:/usr/local/sbin:/usr/local/bin:/usr/sbin:/usr/bin:/sbin:/bin\n",
      "PYTORCH_VERSION=2.0.1\n",
      "CLICOLOR_FORCE=1\n",
      "GIT_PAGER=cat\n",
      "CLICOLOR=1\n",
      "PWD=/workspace/tutorials/1. Geometry\n",
      "JPY_PARENT_PID=1\n",
      "PYDEVD_USE_FRAME_EVAL=NO\n",
      "NVIDIA_VISIBLE_DEVICES=all\n",
      "JPY_SESSION_NAME=/workspace/tutorials/1. Geometry/Basic_domains.ipynb\n"
     ]
    }
   ],
   "source": [
    "!env"
   ]
  },
  {
   "cell_type": "code",
   "execution_count": 3,
   "metadata": {},
   "outputs": [
    {
     "name": "stderr",
     "output_type": "stream",
     "text": [
      "Using default backend: PyTorch\n",
      "Using Pytorch:  2.0.1\n"
     ]
    }
   ],
   "source": [
    "import DeepINN as dp"
   ]
  },
  {
   "cell_type": "code",
   "execution_count": 4,
   "metadata": {},
   "outputs": [],
   "source": [
    "T = dp.spaces.R1('t') # we need a one dimensional space\n",
    "I = dp.domains.Interval(T,0,5 )"
   ]
  }
 ],
 "metadata": {
  "kernelspec": {
   "display_name": "Python 3 (ipykernel)",
   "language": "python",
   "name": "python3"
  },
  "language_info": {
   "codemirror_mode": {
    "name": "ipython",
    "version": 3
   },
   "file_extension": ".py",
   "mimetype": "text/x-python",
   "name": "python",
   "nbconvert_exporter": "python",
   "pygments_lexer": "ipython3",
   "version": "3.10.11"
  }
 },
 "nbformat": 4,
 "nbformat_minor": 4
}
